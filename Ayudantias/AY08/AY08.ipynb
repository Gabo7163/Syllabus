{
 "cells": [
  {
   "cell_type": "markdown",
   "metadata": {},
   "source": [
    "# Ayudantía 08: Networking 💾\n",
    "\n",
    "Ayudantes:\n",
    "\n",
    "- Julio Huerta\n",
    "- Felipe Vidal\n",
    "- Diego Toledo\n",
    "- Alejandro Held\n",
    "- Clemente Campos"
   ]
  },
  {
   "cell_type": "markdown",
   "metadata": {},
   "source": [
    "## Serialización\n",
    "\n",
    "### Introducción\n",
    "La información en los computadores se guarda en **binario**, también conocidos como bits. Pero para ocupar información más útil utilizamos *bytes* que son compuestos por 8 *bits*. Los bytes son la forma en que se mide típicamente la información en los computadores.\n",
    "\n",
    "Cuando creamos cierta estructura de datos o un objeto en Python y queremos enviarlo a través de una red o guardarlo en un archivo, necesitamos convertirlo a una secuencia de bytes. A este proceso se le llama **serialización**.\n",
    "\n",
    "### Pickle\n",
    "Pickle es un módulo de Python que permite serializar y deserializar objetos de Python. Es muy útil para guardar objetos en archivos o enviarlos a través de la red. Tiene dos funciones principales: `pickle.dumps()` y `pickle.loads()`, las cuales permiten serializar y deserializar objetos respectivamente."
   ]
  },
  {
   "cell_type": "code",
   "execution_count": 3,
   "metadata": {},
   "outputs": [
    {
     "name": "stdout",
     "output_type": "stream",
     "text": [
      "Lista serializada: b\"\\x80\\x04\\x95'\\x00\\x00\\x00\\x00\\x00\\x00\\x00]\\x94(K\\x01K\\x02K\\x03\\x86\\x94K\\x04\\x8c\\x04hola\\x94\\x8c\\x05mundo\\x94G@\\t\\x1e\\xb8Q\\xeb\\x85\\x1fe.\"\n",
      "Tipo de dato de la lista serializada: <class 'bytes'>\n",
      "Lista deserializada: [1, (2, 3), 4, 'hola', 'mundo', 3.14]\n",
      "\n",
      "¿Son iguales las listas? True\n",
      "Son el mismo objeto? False\n"
     ]
    }
   ],
   "source": [
    "import pickle\n",
    "\n",
    "lista = [1, (2,3), 4, \"hola\", \"mundo\", 3.14]\n",
    "lista_serializada = pickle.dumps(lista)\n",
    "\n",
    "print(f'Lista serializada: {lista_serializada}')\n",
    "print(f'Tipo de dato de la lista serializada: {type(lista_serializada)}')\n",
    "\n",
    "lista_deserializada = pickle.loads(lista_serializada)\n",
    "print(f'Lista deserializada: {lista_deserializada}\\n')\n",
    "\n",
    "print(f'¿Son iguales las listas? {lista == lista_deserializada}')\n",
    "print(f'Son el mismo objeto? {lista is lista_deserializada}')"
   ]
  },
  {
   "cell_type": "markdown",
   "metadata": {},
   "source": [
    "Se puede observar que transforma la lista en una secuencia de bytes (b\"...\"), donde cada código de byte representa cierto aspecto de la información. Luego de serializar y deserializar la información, obtenemos una lista con la misma información, pero no son el mismo objeto. \n",
    "\n",
    "Se puede guardar la información serializada en un archivo directamente con las funciones `pickle.dump()` y `pickle.load()`. Pickle no es seguro, por lo que no se recomienda usarlo con información de fuentes desconocidas, ya que podría ejecutar código malicioso (Es más, **nunca** debieses cargar con pickle información de fuentes desconocidas).\n"
   ]
  },
  {
   "cell_type": "code",
   "execution_count": 4,
   "metadata": {},
   "outputs": [
    {
     "name": "stdout",
     "output_type": "stream",
     "text": [
      "Matriz original: [[1, 2, 3], [4, 5, 6], [7, 8, 9]]\n",
      "Matriz cargada: [[1, 2, 3], [4, 5, 6], [7, 8, 9]]\n",
      "¿Son iguales las matrices? True\n",
      "Son el mismo objeto? False\n"
     ]
    }
   ],
   "source": [
    "from os import path\n",
    "\n",
    "matriz = [[1,2,3], [4,5,6], [7,8,9]]\n",
    "with open(path.join('data', 'matriz.bin'), 'wb') as file:\n",
    "    pickle.dump(matriz, file)\n",
    "\n",
    "with open(path.join('data', 'matriz.bin'), 'rb') as file:\n",
    "    matriz_cargada = pickle.load(file)\n",
    "\n",
    "\n",
    "print(f'Matriz original: {matriz}')\n",
    "print(f'Matriz cargada: {matriz_cargada}')\n",
    "\n",
    "print(f'¿Son iguales las matrices? {matriz == matriz_cargada}')\n",
    "print(f'Son el mismo objeto? {matriz is matriz_cargada}')\n"
   ]
  },
  {
   "cell_type": "markdown",
   "metadata": {},
   "source": [
    "Similarmente al caso de dumps y loads, dump y load permiten serializar y deserializar objetos en archivos y aunque el contenido sea el mismo, no son el mismo objeto.\n",
    "\n",
    "\n",
    "Al usar pickle con objetos, se busca el método `__getstate__` del objeto y si no existe, tomará el objeto `__dict__` de este. Para deserializar, se buscará el método `__setstate__` y si no existe, se setea el `__dict__` del objeto."
   ]
  },
  {
   "cell_type": "code",
   "execution_count": 7,
   "metadata": {},
   "outputs": [
    {
     "name": "stdout",
     "output_type": "stream",
     "text": [
      "Auto original: {'marca': 'Toyota', 'modelo': 'Corolla', 'uso': 0, 'desgaste': 0.5}\n",
      "Serializando el auto: Toyota Corolla\n",
      "Restaurando el estado del auto, aumentando su desgaste\n",
      "Auto deserializado: {'marca': 'Toyota', 'modelo': 'Corolla', 'uso': 1, 'desgaste': 0.55}\n"
     ]
    }
   ],
   "source": [
    "class Auto:\n",
    "    def __init__(self, marca, modelo, desgaste):\n",
    "        self.marca = marca\n",
    "        self.modelo = modelo\n",
    "        self.uso = 0\n",
    "        self.desgaste = desgaste\n",
    "\n",
    "    def __getstate__(self) -> object:\n",
    "        # Aumentamos la cantidad de usos que ha tenido el auto\n",
    "        nuevo_estado = self.__dict__.copy()\n",
    "        print(f\"Serializando el auto: {nuevo_estado['marca']} {nuevo_estado['modelo']}\")\n",
    "        nuevo_estado.update({\"uso\": self.uso+1})\n",
    "        return nuevo_estado\n",
    "    \n",
    "    def __setstate__(self, state):\n",
    "        print(f\"Restaurando el estado del auto, aumentando su desgaste\")\n",
    "        state.update({\"desgaste\": state[\"desgaste\"] * 1.1})\n",
    "        self.__dict__ = state\n",
    "\n",
    "\n",
    "auto = Auto(\"Toyota\", \"Corolla\", 0.5)\n",
    "print(f'Auto original: {auto.__dict__}')\n",
    "auto_serializado = pickle.dumps(auto)\n",
    "auto_deserializado = pickle.loads(auto_serializado)\n",
    "print(f'Auto deserializado: {auto_deserializado.__dict__}')"
   ]
  },
  {
   "cell_type": "markdown",
   "metadata": {},
   "source": [
    "Se utiliza `__getstate__` y `__setstate__` en casos donde el objeto tiene atributos que dependen de las condiciones del programa, como pór ejemplo tenemos un usuario con amistades. Cuando guardamos el objeto, no queremos guardar las amistades, ya que estas pueden cambiar en el tiempo y pueden causar errores al cargarse. \n",
    "\n",
    "\n",
    "### JSON\n",
    "Otra forma de serializar objetos es utilizando JSON (JavaScript Object Notation). JSON es un formato de texto que permite representar objetos de forma sencilla y se puede utilizar en múltiples lenguajes de programación, mientras que pickle está limitado a ser usado en Python. Python tiene un módulo llamado `json` que permite serializar y deserializar objetos a y desde JSON.\n",
    "\n",
    "La desventaja que tiene respecto a pickle es que JSON solo puede serializar objetos que sean de los siguientes tipos: `dict`, `list`, `tuple`, `str`, `int`, `float`, `bool` y `None`. Por lo que si queremos serializar un objeto que no sea de estos tipos, debemos convertirlo a uno de estos tipos antes de serializarlo."
   ]
  },
  {
   "cell_type": "code",
   "execution_count": 13,
   "metadata": {},
   "outputs": [
    {
     "name": "stdout",
     "output_type": "stream",
     "text": [
      "Objeto serializado a JSON: {\"nombre\": \"Pikachu\", \"tipo\": \"Electrico\", \"nivel\": 5, \"experiencia\": 0}\n",
      "Objeto deserializado de JSON: {'nombre': 'Pikachu', 'tipo': 'Electrico', 'nivel': 5, 'experiencia': 0}, con tipo <class 'dict'>\n"
     ]
    }
   ],
   "source": [
    "import json\n",
    "\n",
    "class Pokemon:\n",
    "    def __init__(self, nombre, tipo, nivel):\n",
    "        self.nombre = nombre\n",
    "        self.tipo = tipo\n",
    "        self.nivel = nivel\n",
    "        self.experiencia = 0\n",
    "\n",
    "poke = Pokemon(\"Pikachu\", \"Electrico\", 5)\n",
    "\n",
    "# Serializamos el objeto a un string JSON\n",
    "poke_json = json.dumps(poke.__dict__)\n",
    "print(f'Objeto serializado a JSON: {poke_json}')\n",
    "poke_json_deserializado = json.loads(poke_json)\n",
    "print(f'Objeto deserializado de JSON: {poke_json_deserializado}, con tipo {type(poke_json_deserializado)}')"
   ]
  },
  {
   "cell_type": "markdown",
   "metadata": {},
   "source": [
    "Distinto a pickle, luego de deserializar un objeto, este no es del mismo tipo, sino que es un diccionario. Por lo que si queremos que sea de un tipo específico, debemos convertirlo manualmente.\n",
    "\n",
    "También se puede personalizar la serialización en JSON, como en pickle, con las funciones de `default` y `object_hook`, pero para que funcione con JSON se debe heredar de `JSONEncoder`."
   ]
  },
  {
   "cell_type": "code",
   "execution_count": 14,
   "metadata": {},
   "outputs": [],
   "source": [
    "class PokemonEncoder(json.JSONEncoder):\n",
    "    def default(self, obj):\n",
    "        if isinstance(obj, Pokemon):\n",
    "            return {\n",
    "                \"nombre\": obj.nombre,\n",
    "                \"tipo\": obj.tipo,\n",
    "                \"nivel\": obj.nivel,\n",
    "                \"experiencia\": obj.experiencia,\n",
    "                \"experiencia_acumulada\": obj.nivel * 100 + obj.experiencia\n",
    "            }\n",
    "        return json.JSONEncoder.default(self, obj)"
   ]
  },
  {
   "cell_type": "code",
   "execution_count": 20,
   "metadata": {},
   "outputs": [
    {
     "name": "stdout",
     "output_type": "stream",
     "text": [
      "{\"nombre\": \"Charmander\", \"tipo\": \"Fuego\", \"nivel\": 23, \"experiencia\": 0}\n",
      "{\"nombre\": \"Charmander\", \"tipo\": \"Fuego\", \"nivel\": 23, \"experiencia\": 0, \"experiencia_acumulada\": 2300}\n",
      "{\"nombre\": \"Squirtle\", \"tipo\": \"Agua\", \"nivel\": 10, \"experiencia\": 0, \"experiencia_acumulada\": 1000}\n",
      "Información del pokemon deserializado: {'nombre': 'Squirtle', 'tipo': 'Agua', 'nivel': 10, 'experiencia': 0, 'experiencia_acumulada': 1000}, del tipo <class 'dict'>\n",
      "Información del pokemon deserializado: <__main__.Pokemon object at 0x00000173363DAED0>, del tipo <class '__main__.Pokemon'>\n"
     ]
    }
   ],
   "source": [
    "poke1 = Pokemon(\"Charmander\", \"Fuego\", 23)\n",
    "poke2 = Pokemon(\"Squirtle\", \"Agua\", 10)\n",
    "\n",
    "json_string = json.dumps(poke1.__dict__)\n",
    "print(json_string)\n",
    "\n",
    "json_string = json.dumps(poke1, cls=PokemonEncoder)\n",
    "print(json_string)\n",
    "json_string = json.dumps(poke2, cls=PokemonEncoder)\n",
    "print(json_string)\n",
    "\n",
    "def pokemon_decoder(dict):\n",
    "    return Pokemon(dict[\"nombre\"], dict[\"tipo\"], dict[\"nivel\"])\n",
    "\n",
    "datos = json.loads(json_string)\n",
    "print(f'Información del pokemon deserializado: {datos}, del tipo {type(datos)}')\n",
    "datos = json.loads(json_string, object_hook=pokemon_decoder)\n",
    "print(f'Información del pokemon deserializado: {datos}, del tipo {type(datos)}')"
   ]
  },
  {
   "cell_type": "markdown",
   "metadata": {},
   "source": [
    "### Bytes y encoding\n",
    "Con pickle guardamos objetos como bytes, pero también podemos crear bytes manualmente y realizar diversas operaciones sobre este formato. Debido a que un `byte` tiene 8 bits, tiene hasta 256 combinaciones distintas. Se puede representar entonces como un número entre 0 y 255 que representen distintos caracteres, como por ejemplo, el byte `65` representa la letra `A` en ASCII, siendo ASCII un estándar de codificación de caracteres.\n",
    "\n",
    "La codificación define qué byte representa a qué caracter, y existen distintas codificaciones, como ASCII, UTF-8, UTF-16, etc. Se puede obtener el byte correspondiente a un caracter con la función `ord()` y obtener el caracter correspondiente a un byte con la función `chr()` para ASCII.\n",
    "\n",
    "Además, aunque la función ord muestre el valor decimal, típicamente se trabaja con dos dígitos hexadecimales que permiten describir un byte completo. Para obtener el valor hexadecimal de un byte, se puede utilizar la función `hex()` y para crear uno directamente se puede anteponer `0x` al valor hexadecimal."
   ]
  },
  {
   "cell_type": "code",
   "execution_count": 23,
   "metadata": {},
   "outputs": [
    {
     "name": "stdout",
     "output_type": "stream",
     "text": [
      "97\n",
      "9824\n",
      "126\n",
      "Å\n",
      "ᛀ\n",
      "Ҙ\n",
      "Caracter: U, código: 85, hexadecimal: 0x55\n",
      "Caracter: ·, código: 183, hexadecimal: 0xb7\n",
      "Caracter: ♠, código: 9824, hexadecimal: 0x2660\n",
      "Caracter: ~, código: 126, hexadecimal: 0x7e\n",
      "Caracter: Å, código: 197, hexadecimal: 0xc5\n",
      "Caracter: ᠀, código: 6144, hexadecimal: 0x1800\n",
      "Caracter: ո, código: 1400, hexadecimal: 0x578\n"
     ]
    }
   ],
   "source": [
    "print(ord('a'))\n",
    "print(ord('♠'))\n",
    "print(ord('~'))\n",
    "\n",
    "print(chr(197))\n",
    "print(chr(5824))\n",
    "print(chr(1176))\n",
    "\n",
    "lista_caracteres = ['U','·','♠','~','Å','᠀','ո']\n",
    "for caracter in lista_caracteres:\n",
    "    print(f'Caracter: {caracter}, código: {ord(caracter)}, hexadecimal: {hex(ord(caracter))}')"
   ]
  },
  {
   "cell_type": "markdown",
   "metadata": {},
   "source": [
    "### Objeto bytes\n",
    "\n",
    "En python los bytes son un tipo de dato inmutable que representa una secuencia de bytes. Son similare a un string, pero se anteponen con una b y se representan los caracteres con formato hexadecimal y un \"\\x\" antes de cada caracter. Se puede decodificar los caracteres con distintos encoding, como utf-8, ascii, etc, lo que es relevante ya que obtenemos distintos caracteres dependiendo del encoding.\n",
    "\n",
    "Se pueden decodificar los bytes con el método `decode()` y se pueden codificar los strings con el método `encode()`. Si se intenta decodificar un byte que no es válido para el encoding, se lanzará una excepción."
   ]
  },
  {
   "cell_type": "code",
   "execution_count": 29,
   "metadata": {},
   "outputs": [
    {
     "name": "stdout",
     "output_type": "stream",
     "text": [
      "b'clich\\xe9'\n",
      "cliché\n"
     ]
    },
    {
     "ename": "UnicodeDecodeError",
     "evalue": "'utf-8' codec can't decode byte 0xe9 in position 5: unexpected end of data",
     "output_type": "error",
     "traceback": [
      "\u001b[1;31m---------------------------------------------------------------------------\u001b[0m",
      "\u001b[1;31mUnicodeDecodeError\u001b[0m                        Traceback (most recent call last)",
      "Cell \u001b[1;32mIn[29], line 5\u001b[0m\n\u001b[0;32m      3\u001b[0m \u001b[38;5;28mprint\u001b[39m(caracteres)\n\u001b[0;32m      4\u001b[0m \u001b[38;5;28mprint\u001b[39m(caracteres\u001b[38;5;241m.\u001b[39mdecode(\u001b[38;5;124m'\u001b[39m\u001b[38;5;124mlatin1\u001b[39m\u001b[38;5;124m'\u001b[39m))\n\u001b[1;32m----> 5\u001b[0m \u001b[38;5;28mprint\u001b[39m(\u001b[43mcaracteres\u001b[49m\u001b[38;5;241;43m.\u001b[39;49m\u001b[43mdecode\u001b[49m\u001b[43m(\u001b[49m\u001b[38;5;124;43m'\u001b[39;49m\u001b[38;5;124;43mutf-8\u001b[39;49m\u001b[38;5;124;43m'\u001b[39;49m\u001b[43m)\u001b[49m)\n",
      "\u001b[1;31mUnicodeDecodeError\u001b[0m: 'utf-8' codec can't decode byte 0xe9 in position 5: unexpected end of data"
     ]
    }
   ],
   "source": [
    "caracteres = b\"\\x63\\x6c\\x69\\x63\\x68\\xe9\"\n",
    "print(caracteres)\n",
    "print(caracteres.decode('latin1'))\n",
    "print(caracteres.decode('utf-8'))"
   ]
  },
  {
   "cell_type": "code",
   "execution_count": 30,
   "metadata": {},
   "outputs": [
    {
     "name": "stdout",
     "output_type": "stream",
     "text": [
      "b'esdr\\xc3\\xbajula'\n",
      "b'esdr\\xfajula'\n"
     ]
    }
   ],
   "source": [
    "string = \"esdrújula\"\n",
    "print(string.encode('utf-8'))\n",
    "print(string.encode('latin1'))"
   ]
  },
  {
   "cell_type": "markdown",
   "metadata": {},
   "source": [
    "### Objeto bytearray\n",
    "\n",
    "El objeto bytearray es similar a los bytes, pero es mutable. Se puede modificar los bytes de un bytearray, pero no se puede modificar los bytes de un byte. Se puede convertir un bytearray a bytes con la función `bytes()` y se puede convertir un bytes a bytearray con la función `bytearray()`.\n",
    "\n",
    "El objeto bytearray tiene además diversas funcionalidades útiles, como acceder a ciertas partes con slicing, extenderlo con el método `extend()`, insertar bytes con el método `insert()`, remover bytes con el método `remove()`, etc."
   ]
  },
  {
   "cell_type": "code",
   "execution_count": 35,
   "metadata": {},
   "outputs": [
    {
     "name": "stdout",
     "output_type": "stream",
     "text": [
      "bytearray(b'Programar con Python')\n",
      "bytearray(b'con ')\n",
      "bytearray(b'Programar con Python es muy divertido')\n",
      "80\n"
     ]
    }
   ],
   "source": [
    "mi_bytearray = bytearray(b\"Programar con Python\")\n",
    "print(mi_bytearray)\n",
    "print(mi_bytearray[10:14])\n",
    "mi_bytearray.extend(b\" es muy divertido\")\n",
    "print(mi_bytearray)\n",
    "print(mi_bytearray[0])"
   ]
  },
  {
   "cell_type": "markdown",
   "metadata": {},
   "source": [
    "Relevante respecto al manejo de bytes son los **chunks**, que son bloques de bytes que se utilizan para enviar información a través de la red. Se pueden enviar chunks de bytes a través de una red y luego reconstruir la información original con estos chunks. Estos chunks permiten separar la información en bloques más pequeños y enviarlos de forma más eficiente."
   ]
  },
  {
   "cell_type": "code",
   "execution_count": 38,
   "metadata": {},
   "outputs": [
    {
     "name": "stdout",
     "output_type": "stream",
     "text": [
      "bytearray(b'Hola')\n",
      "bytearray(b', mu')\n",
      "bytearray(b'y bu')\n",
      "bytearray(b'enos')\n",
      "bytearray(b' dia')\n",
      "bytearray(b's! E')\n",
      "bytearray(b'stuv')\n",
      "bytearray(b'e in')\n",
      "bytearray(b'vest')\n",
      "bytearray(b'igan')\n",
      "bytearray(b'do s')\n",
      "bytearray(b'obre')\n",
      "bytearray(b' los')\n",
      "bytearray(b' byt')\n",
      "bytearray(b'es y')\n",
      "bytearray(b' los')\n",
      "bytearray(b' byt')\n",
      "bytearray(b'earr')\n",
      "bytearray(b'ay')\n"
     ]
    }
   ],
   "source": [
    "bytearray_texto = bytearray(b\"Hola, muy buenos dias! Estuve investigando sobre los bytes y los bytearray\")\n",
    "TAMANO_CHUNK = 4\n",
    "\n",
    "for i in range(0, len(bytearray_texto), TAMANO_CHUNK):\n",
    "    chunk = bytearray_texto[i:i+TAMANO_CHUNK]\n",
    "    print(chunk)\n"
   ]
  },
  {
   "cell_type": "markdown",
   "metadata": {},
   "source": [
    "Al pasar los números int a bytes, se debe especificar el orden de transformación, ya que al representar 8 bits, se puede tener el byte más significativo (el que tiene mayor peso/valor) al principio o al final. Se puede especificar el orden con el parámetro `byteorder` en las funciones `int.to_bytes()` y `int.from_bytes()`. Los dos formatos son `big-endian` y `little-endian`, donde el primero pone el byte más significativo al principio y el segundo al final."
   ]
  },
  {
   "cell_type": "code",
   "execution_count": 47,
   "metadata": {},
   "outputs": [
    {
     "data": {
      "text/plain": [
       "b'\\x05('"
      ]
     },
     "execution_count": 47,
     "metadata": {},
     "output_type": "execute_result"
    }
   ],
   "source": [
    "(1320).to_bytes(2, byteorder='big')"
   ]
  },
  {
   "cell_type": "code",
   "execution_count": 48,
   "metadata": {},
   "outputs": [
    {
     "data": {
      "text/plain": [
       "b'(\\x05'"
      ]
     },
     "execution_count": 48,
     "metadata": {},
     "output_type": "execute_result"
    }
   ],
   "source": [
    "(1320).to_bytes(2, byteorder='little')"
   ]
  },
  {
   "cell_type": "code",
   "execution_count": 49,
   "metadata": {},
   "outputs": [
    {
     "data": {
      "text/plain": [
       "b'\\x00\\x00\\x00\\x00\\x05('"
      ]
     },
     "execution_count": 49,
     "metadata": {},
     "output_type": "execute_result"
    }
   ],
   "source": [
    "(1320).to_bytes(6, byteorder='big')"
   ]
  },
  {
   "cell_type": "code",
   "execution_count": 50,
   "metadata": {},
   "outputs": [
    {
     "data": {
      "text/plain": [
       "b'(\\x05\\x00\\x00\\x00\\x00'"
      ]
     },
     "execution_count": 50,
     "metadata": {},
     "output_type": "execute_result"
    }
   ],
   "source": [
    "(1320).to_bytes(6, byteorder='little')"
   ]
  },
  {
   "cell_type": "markdown",
   "metadata": {},
   "source": [
    "Se puede observar como cambia el orden del hexadecimal al pasar de un formato a otro, ya que el byte más significativo pasa a ser el menos significativo y viceversa.\n",
    "\n",
    "Además, en los siguientes ejemplos se puede observar como el formato de los bytes al obtener un int cambia el valor del int en grandes rangos, mayor mientras más bytes se usen para guardar el número."
   ]
  },
  {
   "cell_type": "code",
   "execution_count": 51,
   "metadata": {},
   "outputs": [
    {
     "data": {
      "text/plain": [
       "1320"
      ]
     },
     "execution_count": 51,
     "metadata": {},
     "output_type": "execute_result"
    }
   ],
   "source": [
    "int.from_bytes(b'\\x05(', byteorder='big')"
   ]
  },
  {
   "cell_type": "code",
   "execution_count": 52,
   "metadata": {},
   "outputs": [
    {
     "data": {
      "text/plain": [
       "10245"
      ]
     },
     "execution_count": 52,
     "metadata": {},
     "output_type": "execute_result"
    }
   ],
   "source": [
    "int.from_bytes(b'\\x05(', byteorder='little')"
   ]
  },
  {
   "cell_type": "code",
   "execution_count": 53,
   "metadata": {},
   "outputs": [
    {
     "data": {
      "text/plain": [
       "1320"
      ]
     },
     "execution_count": 53,
     "metadata": {},
     "output_type": "execute_result"
    }
   ],
   "source": [
    "int.from_bytes(b'\\x00\\x00\\x00\\x00\\x05(', byteorder='big')"
   ]
  },
  {
   "cell_type": "code",
   "execution_count": 54,
   "metadata": {},
   "outputs": [
    {
     "data": {
      "text/plain": [
       "44001939947520"
      ]
     },
     "execution_count": 54,
     "metadata": {},
     "output_type": "execute_result"
    }
   ],
   "source": [
    "int.from_bytes(b'\\x00\\x00\\x00\\x00\\x05(', byteorder='little')"
   ]
  },
  {
   "cell_type": "markdown",
   "metadata": {},
   "source": [
    "Finalmente, aquí hay un pequeño resumen para recordar lo que hacen los distintos métodos de encoding:\n",
    "\n",
    "![resumen](resumen.png)"
   ]
  },
  {
   "cell_type": "markdown",
   "metadata": {},
   "source": [
    "## Networking: elementos básicos\n",
    "\n",
    "## IP\n",
    "Las ip son la forma de identificar de forma única a cada computador, es la forma con la que nosotros vamos a poder buscar una máquina en específico para poder enviar mensajes.\n",
    "\n",
    "## Puerto\n",
    "Cuando nos conectamos a cierta máquina mediante la **IP**, necesitamos especificar qué puerto estamos usando. Esto es ya que un computador cuenta con **miles** de puertos y cada uno puede ser utilizado por una aplicación a la vez. De esta forma nosotros podemos saber que nos estamos conectando a la aplicación correcta y podemos comunicarnos de forma efectiva.\n"
   ]
  },
  {
   "cell_type": "markdown",
   "metadata": {},
   "source": [
    "## Protocolo de comunicación\n",
    "Al hacer uso de networking tenemos que hacer uso de un protocolo de comunicación. Esto se puede entender como el estándar que van a cumplir los computadores para enviarse los mensajes. Los protocolos principales son:\n",
    "\n",
    "- **TCP**: este método prioriza la confiabilidad por sobre la rapidez. Esto quiere decir que nos asegura que **todos los paquetes llegan de forma integra** al receptor. Es útil para cuando la información debe llegar 100% correcta. Por ejemplo, uno no quiere que una tarea enviada en canvas tenga un descuento porque un par de bytes del archivo se envíen de forma incorrecta.\n",
    "  \n",
    "- **UDP**: este protocolo prioriza la rapidez por sobre la confiabilidad. Es un protocolo más rápido que TCP pero no asegura que toda la información llegue perfectamente. Es útil cuando la pérdida de un poco de información no sea grave, por ejemplo si estás viendo un video en youtube no es conveniente que el video cargue más lento solo para que unos pocos pixeles se vean del color indicado."
   ]
  },
  {
   "cell_type": "markdown",
   "metadata": {},
   "source": [
    "## Cliente\n",
    "Mucha teoría por hoy 😴. Ahora llevemos esto a la práctica. Para esto el primer paso es crear un socket. Un socket es un objeto de python el cual se puede entender como la vía de entrada y salida de información. \n",
    "- ¿Quiero enviar un mensaje? ➜ Socket \n",
    "- ¿Quiero recibir un mensaje? ➜ Socket\n",
    "  \n",
    "Un socket se genera de la siguiente manera: "
   ]
  },
  {
   "cell_type": "code",
   "execution_count": 1,
   "metadata": {},
   "outputs": [],
   "source": [
    "# importamos la librería socket\n",
    "import socket \n",
    "\n",
    "# generamos el objeto\n",
    "sock = socket.socket(socket.AF_INET, socket.SOCK_STREAM)\n",
    "\n",
    "# el primer elemento de la tupla nos dice si ocuparemos las IP en formato IPv4 o IPv6\n",
    "# AF_INET -> IPv4\n",
    "# AF_INET6 -> IPv6\n",
    "\n",
    "# El segundo elemento de la tupla nos dice si ocuparemos los protocolos TCP o UDP\n",
    "# SOCK_STREAM ->  TCP\n",
    "# SOCK_DGRAM -> UDP\n"
   ]
  },
  {
   "cell_type": "markdown",
   "metadata": {},
   "source": [
    "Ahora debemos decir a quién nos queremos conectar:"
   ]
  },
  {
   "cell_type": "code",
   "execution_count": 2,
   "metadata": {},
   "outputs": [],
   "source": [
    "# ponemos una tupla con (ip, puerto) \n",
    "\n",
    "host = socket.gethostname()  # en este caso especificamos que la IP será la nuestra\n",
    "port = 8726  # elegimos el puerto con el que queramos conectarnos \n",
    "\n",
    "sock.connect((host, port))"
   ]
  },
  {
   "cell_type": "markdown",
   "metadata": {},
   "source": [
    "Finalmente para mandar mensajes ocupamos send o sendall"
   ]
  },
  {
   "cell_type": "code",
   "execution_count": 3,
   "metadata": {},
   "outputs": [
    {
     "name": "stdout",
     "output_type": "stream",
     "text": [
      "Logramos enviar efectivamente 68 bytes\n"
     ]
    }
   ],
   "source": [
    "\n",
    "# con send mandamos el mensaje y nos dice cuántos bytes fallaron en enviarse\n",
    "mensaje = \"Bueeenas, aquí mandando mi request para saber lo byts que se envian\"\n",
    "mensaje_bytes = mensaje.encode('utf-8')  # pasamos todo a bytes\n",
    "enviados_efectivamente = sock.send(mensaje_bytes)\n",
    "print(f\"Logramos enviar efectivamente {enviados_efectivamente} bytes\")"
   ]
  },
  {
   "cell_type": "code",
   "execution_count": 4,
   "metadata": {},
   "outputs": [
    {
     "name": "stdout",
     "output_type": "stream",
     "text": [
      "None\n"
     ]
    }
   ],
   "source": [
    "# podemos tener varios sockets a la vez en un código\n",
    "sock = socket.socket(socket.AF_INET, socket.SOCK_STREAM)\n",
    "host = socket.gethostname()\n",
    "sock.connect((host, port))\n",
    "\n",
    "# en cambio sendall nos asegura al 100% que los mensajes se van a enviar completos.\n",
    "mensaje = \"Hola servidor, estamos probando como funcionas :)\"\n",
    "mensaje_bytes = mensaje.encode('utf-8')  # pasamos todo a bytes\n",
    "sock.sendall(mensaje_bytes)"
   ]
  },
  {
   "cell_type": "markdown",
   "metadata": {},
   "source": [
    "Finalmente para saber la respuesta del servidor ocuapos recv especificando cuandos bytes se deben enviar."
   ]
  },
  {
   "cell_type": "code",
   "execution_count": 5,
   "metadata": {},
   "outputs": [
    {
     "name": "stdout",
     "output_type": "stream",
     "text": [
      "\n",
      "Hola! soy el servidor. Gracias por conectarte\n",
      "Acabo de recibir el mensaje: Hola servidor, estamos probando como funcionas :)\n"
     ]
    }
   ],
   "source": [
    "\n",
    "data_bytes = sock.recv(4096)  # recibimos hasta 4096 bytes de respuesta (si sobran no importa)\n",
    "data_str = data_bytes.decode(\"utf-8\")\n",
    "print(data_str)  # veamos que nos responden\n",
    "\n",
    "# cerramos la conexión, sino se ocupan recursos en su computador :(\n",
    "# SIEMPRE CIERREN SUS CONEXIONES\n",
    "sock.close()"
   ]
  },
  {
   "cell_type": "markdown",
   "metadata": {},
   "source": [
    "## Servidor\n",
    "\n",
    "El código anterior necesita que exista un computador esperando conexiones y que le de una respuesta. Se puede entender que el cliente realiza **requests** y **consume los servicios** del servidor. Ahora vamos a aprender a crear un servidor que espere la llegada de clientes y que responda a las solicitudes que se le realicen.\n",
    "\n",
    "Como ya se dijo, los sockets son la forma de enviar y recibir mensajes. Así que lo primero va a ser obtener nuestro socket."
   ]
  },
  {
   "cell_type": "code",
   "execution_count": 6,
   "metadata": {},
   "outputs": [],
   "source": [
    "import socket\n",
    "# creamos nuestro socket\n",
    "sock = socket.socket(socket.AF_INET, socket.SOCK_STREAM)\n",
    "\n",
    "# conseguimos nuestro propio hostname que va a hacer el trabajo de IP\n",
    "host = socket.gethostname()\n",
    "\n",
    "# especificamos el puerto en el que los clientes tendrán que conectarse\n",
    "port = 5732\n",
    "\n",
    "# conectamos nuestro socket a la IP y puerto.\n",
    "sock.bind((host, port))"
   ]
  },
  {
   "cell_type": "code",
   "execution_count": 7,
   "metadata": {},
   "outputs": [],
   "source": [
    "# el código se queda pegado hasta que llegue un cliente\n",
    "sock.listen()\n",
    "\n",
    "# ahora aceptamos a quién llegue\n",
    "\n",
    "# socket_cliente es el socket para comunicarnos con este cliente en específico\n",
    "socket_cliente, address = sock.accept()\n",
    "\n",
    "# aquí va la lógica del servidor"
   ]
  },
  {
   "cell_type": "markdown",
   "metadata": {},
   "source": [
    "Para obtener una experiencia más realista de cómo es trabajar con sockets, correr los archivos `resumen_cliente.py` y `resumen_servidor.py`."
   ]
  }
 ],
 "metadata": {
  "kernelspec": {
   "display_name": "Python 3",
   "language": "python",
   "name": "python3"
  },
  "language_info": {
   "codemirror_mode": {
    "name": "ipython",
    "version": 3
   },
   "file_extension": ".py",
   "mimetype": "text/x-python",
   "name": "python",
   "nbconvert_exporter": "python",
   "pygments_lexer": "ipython3",
   "version": "3.11.7"
  }
 },
 "nbformat": 4,
 "nbformat_minor": 2
}

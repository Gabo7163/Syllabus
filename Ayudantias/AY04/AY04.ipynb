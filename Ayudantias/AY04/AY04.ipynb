{
 "cells": [
  {
   "cell_type": "markdown",
   "metadata": {},
   "source": [
    "# Ayudantía 04 : OOP 2 / Iteradores / Listas ligadas"
   ]
  },
  {
   "cell_type": "markdown",
   "metadata": {},
   "source": [
    "## Ayudantes\n",
    "\n",
    "* Julio Huerta\n",
    "* Felipe Vidal\n",
    "* Diego Toledo\n",
    "* Alejandro Held\n",
    "* Clemente Campos"
   ]
  },
  {
   "cell_type": "markdown",
   "metadata": {},
   "source": [
    "## Tópicos\n",
    "\n",
    "* Clases abstractas\n",
    "* Diagramas de clase\n",
    "* Listas ligadas\n",
    "* Iteradores e iterables"
   ]
  },
  {
   "cell_type": "markdown",
   "metadata": {},
   "source": [
    "# Clases abstractas"
   ]
  },
  {
   "cell_type": "markdown",
   "metadata": {},
   "source": [
    "En la ayudantía anterior exploramos el concepto de herencia de clases. La herencia nos permite tener objetos padres que \"entreguen\" sus métodos para que estén a disposición de las clases hijas. Este concepto es muy útil para modelar distintas situaciones y conceptos dentro de la programación.\n",
    "\n",
    "Un tópico que no exploramos es el de tener clases que **NO QUEREMOS INSTANCIAR NUNCA**, pero las cuales nos sirvan como molde para poder modelar el resto de clases, heredando métodos en común o especificando qué métodos deben tener las clases hijas.\n",
    "\n"
   ]
  },
  {
   "cell_type": "code",
   "execution_count": 1,
   "metadata": {},
   "outputs": [
    {
     "name": "stdout",
     "output_type": "stream",
     "text": [
      "None\n"
     ]
    }
   ],
   "source": [
    "# tenemos una clase que representa una figura en general\n",
    "\n",
    "class Figura:\n",
    "\n",
    "    def __init__(self):\n",
    "        pass\n",
    "\n",
    "    # queremos que toda figura tenga un método que calcule su área\n",
    "    # pero no sabemos cómo calcularla si no sabemos qué figura es\n",
    "    def area(self):\n",
    "        pass\n",
    "\n",
    "    # lo mismo con el perímetro\n",
    "    def perimetro(self):\n",
    "        pass\n",
    "\n",
    "figura = Figura()\n",
    "print(figura.area())"
   ]
  },
  {
   "cell_type": "markdown",
   "metadata": {},
   "source": [
    "Como podemos ver, se tiene una clase la cual no tiene sentido que sea instanciada, es simplemente un molde que ocupamos para que el resto de clases tengan métodos comunes. El problema que tenemos es que python **si** nos deja instanciar esta clase, ya que al fin y al cabo es como cualquier otra 😰.\n",
    "\n",
    "Para decir a python que no queremos instanciar esa clase de forma directa ocuparemos el concepto de **clase abstracta**.\n",
    "\n",
    "Vamos a tener **clases abstractas** las cuales se pueden identificar porque **heredan de la clase ABC**, esto significa que nos generarán un error al intentar instanciarlas. Además para ayudarnos a crear métodos comunes que **toda clase hija debe modificar** vamos a tener **métodos abstractos** los cuales generarán un error si por ~~tener sueño~~ equivocación se nos olvida que las clase hija debían **modificarlos**. Veamos un ejemplo."
   ]
  },
  {
   "cell_type": "code",
   "execution_count": 2,
   "metadata": {},
   "outputs": [
    {
     "name": "stdout",
     "output_type": "stream",
     "text": [
      "4\n",
      "12.566\n"
     ]
    }
   ],
   "source": [
    "from abc import ABC, abstractmethod\n",
    "\n",
    "class Figura(ABC):\n",
    "\n",
    "    # por ahora no hacemos nada en ningún método, pero sabemos\n",
    "    # que todas las clases hijas los deben implementar\n",
    "    @abstractmethod\n",
    "    def __init__(self):\n",
    "        pass\n",
    "\n",
    "    @abstractmethod\n",
    "    def area(self):\n",
    "        pass\n",
    "\n",
    "    @abstractmethod\n",
    "    def perimetro(self):\n",
    "        pass\n",
    "\n",
    "class Cuadrado(Figura):\n",
    "\n",
    "    def __init__(self, lado: int):\n",
    "        self.lado = lado\n",
    "    \n",
    "    def area(self):\n",
    "        return self.lado ** 2\n",
    "    \n",
    "    def perimetro(self):\n",
    "        return self.lado * 4\n",
    "    \n",
    "class Circulo(Figura):\n",
    "\n",
    "    def __init__(self, radio: int):\n",
    "        self.radio = radio\n",
    "    \n",
    "    def area(self):\n",
    "        return (self.radio ** 2 ) * 3.1415 \n",
    "    \n",
    "    def perimetro(self):\n",
    "        return self.radio * 2 * 3.1415 \n",
    "\n",
    "\n",
    "cuadrado = Cuadrado(2)\n",
    "print(cuadrado.area())\n",
    "\n",
    "circulo = Circulo(2)\n",
    "print(circulo.area())"
   ]
  },
  {
   "cell_type": "code",
   "execution_count": 3,
   "metadata": {},
   "outputs": [
    {
     "ename": "TypeError",
     "evalue": "Can't instantiate abstract class Triangulo with abstract methods area, perimetro",
     "output_type": "error",
     "traceback": [
      "\u001b[1;31m---------------------------------------------------------------------------\u001b[0m",
      "\u001b[1;31mTypeError\u001b[0m                                 Traceback (most recent call last)",
      "Cell \u001b[1;32mIn[3], line 8\u001b[0m\n\u001b[0;32m      5\u001b[0m         \u001b[38;5;28mself\u001b[39m\u001b[38;5;241m.\u001b[39mangulo_basal_1 \u001b[38;5;241m=\u001b[39m angulo_basal_1\n\u001b[0;32m      6\u001b[0m         \u001b[38;5;28mself\u001b[39m\u001b[38;5;241m.\u001b[39mangulo_basal_2 \u001b[38;5;241m=\u001b[39m angulo_basal_2\n\u001b[1;32m----> 8\u001b[0m triangulo \u001b[38;5;241m=\u001b[39m \u001b[43mTriangulo\u001b[49m\u001b[43m(\u001b[49m\u001b[38;5;241;43m2\u001b[39;49m\u001b[43m,\u001b[49m\u001b[43m \u001b[49m\u001b[38;5;241;43m45\u001b[39;49m\u001b[43m,\u001b[49m\u001b[43m \u001b[49m\u001b[38;5;241;43m45\u001b[39;49m\u001b[43m)\u001b[49m\n",
      "\u001b[1;31mTypeError\u001b[0m: Can't instantiate abstract class Triangulo with abstract methods area, perimetro"
     ]
    }
   ],
   "source": [
    "class Triangulo(Figura):\n",
    "\n",
    "    def __init__(self, base: int, angulo_basal_1: int, angulo_basal_2: int):\n",
    "        self.base = base\n",
    "        self.angulo_basal_1 = angulo_basal_1\n",
    "        self.angulo_basal_2 = angulo_basal_2\n",
    "\n",
    "triangulo = Triangulo(2, 45, 45)"
   ]
  },
  {
   "cell_type": "markdown",
   "metadata": {},
   "source": [
    "En el último ejemplo, vimos que creamos la clase `Triangulo` pero no redefinimos los metodos `area` ni `perimetro`, por lo que al tratar de instanciarla nos da un error. "
   ]
  },
  {
   "cell_type": "markdown",
   "metadata": {},
   "source": [
    "# Diagrama de clases"
   ]
  },
  {
   "cell_type": "markdown",
   "metadata": {},
   "source": [
    "Digamos que estoy planificando una extensión en el código anterior que busca agregar más clases que hereden unas de otras. Como se podrán imaginar, a mayor cantidad de clases más complejidad se produce al programar. ¿Cómo simplifico la planificación? ¿Cómo evito confusiones por métodos que no recuerdo si se heredaban?\n",
    "\n",
    "Peor aún, qué pasa si estoy trabajando en equipo, ¿cómo les comunico mis ideas? ¿de qué forma podemos todos entender lo mismo? o incluso, si hay un fallo en el código y no estoy disponible para arreglarlo porque estoy ~~disfrutando de las fondas~~ estudiando para una interrogación, ¿cómo puede mi equipo saber donde está cada método en el código?\n",
    "\n",
    "Para estas situaciones, los programadores crearon los **diagramas de clases** los cuales son una forma común de representar de forma visual y con cierto nivel de detalle **cómo se relacionan las distintas clases**, qué atributos las componen y qué métodos tiene cada una. Optimizando la comunicación y planificación dentro de los proyectos, permitiéndonos ~~ir a la fonda tranquilos~~ estudiar para la interrogación."
   ]
  },
  {
   "cell_type": "markdown",
   "metadata": {},
   "source": [
    "### Clases\n",
    "Para representar cada clase, vamos a generar un caja la cual tendrá:\n",
    "* Nombre de la clase\n",
    "* Métodos\n",
    "* Atributos\n",
    "\n",
    "![](img/UML_class.png)"
   ]
  },
  {
   "cell_type": "markdown",
   "metadata": {},
   "source": [
    "### Relaciones\n",
    "Dentro de nuestro código se espera que las clases se relacionen ente ellas, dentro de los diagramas de clases se van a intentar representar estas relaciones con distintas simbologías.\n",
    "\n",
    "* Herencia: Si una clase hereda de otra, se conectarán ambas con una linea y un triángulo. El triángulo apuntará siempre a la clase padre.\n",
    "* Agregación: Un objeto A contiene a otro objeto B en su interior (en una lista, en un atributo etc.), pero cumple con que **B puede funcionar independientemente de A**. En el diagrama se representa con una línea y **un diamante blanco** cerca de la clase que contiene a la otra.\n",
    "* Composición: Un objeto A contiene a otro objeto B en su interior (en una lista, en un atributo etc.), pero cumple con que **B solo existe dentro de A**. En el diagrama se representa con una línea y **un diamante negro** cerca de la clase que contiene a la otra.\n",
    "\n",
    "Por ejemplo, si tengo un estuche el cual contiene diversos lapices en su interior. Si en el código mi estuche desaparece ¿Los lapices deben desaparecer también?. Si la respuesta es que no, tenemos **agregación**. Si la respuesta es si, estamos frente a una **composición**.\n",
    "\n",
    "Recuerda que pese a que la agregación y la composición son elementos que proporcionan información importante y recomendamos utilizarlos en sus diagramas. La distinción entre ellas no será necesaria en las evaluaciones del curso. Con señalar en sus diagramas un diamante ya sea relleno o no, bastará.\n",
    "\n",
    "### Ejemplo\n",
    "A continuación se presenta un diagrama de clases sobre un video juego. Respondan las siguientes preguntas.\n",
    "- Si quiero agregar una clase animal ¿Donde lo debo hacer?\n",
    "- ¿Qué métodos tiene un zombie?\n",
    "- ¿Cuáles de las clases presentadas son abstractas? \n",
    "\n",
    "![](img\\diagrama_de_clases.png)\n"
   ]
  },
  {
   "cell_type": "markdown",
   "metadata": {},
   "source": [
    "# Listas ligadas\n",
    "\n",
    "Las listas ligadas son un concepto fundamental dentro de la computación. Son estructuras que buscan guardar información de forma secuencial (tienen un primer elemento, segundo elemento, etc.) y tienen la característica de que cada elemento guarda una referencia al elemento que le sigue, y son de largo variable. Asimismo, para guardar la lista completa no guardamos referencias a todos los elementos sino que solo al primero y al último, y si queremos acceder a un elemento en particular vamos a tener que recorrer la estructura. Para su implementación en python, vamos a crear dos clases, nodo y lista ligada.\n",
    "\n",
    "## Clase Nodo\n",
    "Los nodos son los elementos de una lista ligada. En general, lo que caracteriza al nodo es que debe tener por lo menos 2 atributos relevantes: debe tener una referencia al siguiente nodo de la lista ligada (en caso que sea el último, esta puede ser `None`), y debe tener su valor respectivo. Esto último quiere decir que si se buscan almacenar los datos de un grupo de personas, por ejemplo, podríamos tener atributos como `edad` o `nombre`, pero siempre tenemos que tener el atributo `siguiente`.\n"
   ]
  },
  {
   "cell_type": "code",
   "execution_count": null,
   "metadata": {},
   "outputs": [],
   "source": [
    "# creamos un nodo donde su atributo \"siguiente\" posteriormente\n",
    "# tendrá a el nodo que le sigue en la lista\n",
    "class NodoPersona:\n",
    "\n",
    "    def __init__(self, nombre: str, edad: int):\n",
    "        self.edad = edad\n",
    "        self.nombre = nombre\n",
    "        # \"siguiente\" empieza como None ya que inicialmente no tiene sucesor\n",
    "        self.siguiente = None"
   ]
  },
  {
   "cell_type": "markdown",
   "metadata": {},
   "source": [
    "## Clase Lista Ligada\n",
    "La clase lista ligada será, valga la redundancia, la clase que representa a una lista ligada en su totalidad. Es una estructura que almacena tanto el primer elemento de ella (nodo cabeza) como el último (nodo cola). Es importante destacar que no es necesario que contenga cada elemento de la lista, porque cada nodo indica cual será el siguiente.\n",
    "Además, la clase lista ligada tendrá tres métodos principales:\n",
    "* `agregar(self, valor)`: este método agrega un nodo al final de la lista con el valor entregado\n",
    "* `obtener(self, posicion)`: este metodo retorna el nodo en la posición dada\n",
    "* `insertar(valor, posicion)`: agrega un nodo con el valor dado en la posición que se quiere en la lista."
   ]
  },
  {
   "cell_type": "code",
   "execution_count": null,
   "metadata": {},
   "outputs": [],
   "source": [
    "class ListaLigadaPersonas:\n",
    "\n",
    "    def __init__(self) -> None:\n",
    "        self.cabeza = None\n",
    "        self.cola = None\n",
    "\n",
    "    def agregar(self, nombre: str, edad: int) -> None:\n",
    "\n",
    "        # creamos un nuevo nodo\n",
    "        nuevo = NodoPersona(nombre, edad)\n",
    "\n",
    "        # si la lista esta vacía, este nodo es cabeza\n",
    "        # y cola a la vez\n",
    "        if self.cabeza is None:\n",
    "            self.cabeza = nuevo\n",
    "            self.cola = nuevo\n",
    "        # si no está vacía, modificamos el atributo \"siguiente\"\n",
    "        # de la cola y actualizamos esta última\n",
    "        else:\n",
    "            self.cola.siguiente = nuevo\n",
    "            self.cola = nuevo\n",
    "\n",
    "    def obtener(self, posicion: int):\n",
    "        # seteamos el nodo actual como la cabeza\n",
    "        nodo_actual = self.cabeza\n",
    "\n",
    "        # recorremos hasta \"posicion\"\n",
    "        for _ in range(posicion):\n",
    "            if nodo_actual is not None:\n",
    "                nodo_actual = nodo_actual.siguiente\n",
    "\n",
    "        # retornamos\n",
    "        if nodo_actual is None:\n",
    "            return None\n",
    "        return nodo_actual.nombre, nodo_actual.edad\n",
    "    \n",
    "    def insertar(self, nombre: str, edad: int, posicion: int):\n",
    "        # propuesto ;)\n",
    "        pass"
   ]
  },
  {
   "cell_type": "markdown",
   "metadata": {},
   "source": [
    "## ¿Y para qué `$#&$#@$` me sirve una lista ligada?\n",
    "Puede que la implementación de una lista ligada en Python parezca un poco rebuscada e incluso inútil, ¿para qué nos sirve si ya tenemos la clase `list`?\n",
    "\n",
    "Hay dos razones principales para el uso de esta estructura, y la primera tiene que ver con la eficiencia de ciertas acciones. En una lista normal, hacer un `pop` del primer elemento implica mover todos los otros elementos una posición hacia atrás, lo cual es muy costoso. Una lista ligada, en cambio, solo tiene que crear una nuevo nodo cabeza que apunte hacia la cabeza que se tenía anteriormente, haciendo esta operación mucho menos costosa. Lo mismo pasa al añadir un elemento al principio.\n",
    "La segunda razón es que, aunque sea difícil creerlo, hay lenguajes donde la `list` de python tal y conocemos no existe, y las listas son de tamaño fijo ([entre bajo su propio riesgo](https://es.wikipedia.org/wiki/Puntero_(informática))). En estos lenguajes (como C, por ejemplo) la lista ligada es de muchísima utilidad cuando queremos una estructura que nos permita tener un largo variable."
   ]
  },
  {
   "cell_type": "markdown",
   "metadata": {},
   "source": [
    "# Iteradores e iterables"
   ]
  },
  {
   "cell_type": "markdown",
   "metadata": {},
   "source": [
    "# Iterables\n",
    "Como se pudo ver en listas ligadas, hay estructuras dentro de la programación donde resulta lógico la idea de **recorrer** los elementos. Es aquí donde surge la idea de iterables, como todos los objetos que de alguna forma podemos recorrer un elemento tras otro.\n",
    "Algunos ejemplos de iterables son las listas, tuplas, diccionarios, etc. En general un iterable es todo lo que puede ir a la derecha de un ciclo for (`for a in iterable:`)\n",
    "\n",
    "Ahora, nosotros también podemos darle este comportamiento a nuestras propias clases, y crear iterables personalizados. Para ser un iterable, la clase debe tener el método `__iter__` implementado, el cual debe retornar un **iterador**."
   ]
  },
  {
   "cell_type": "code",
   "execution_count": null,
   "metadata": {},
   "outputs": [],
   "source": [
    "from __future__ import annotations \n",
    "\n",
    "# declaramos la clase IteradorListaLigada,\n",
    "# pero no la definimos, esto lo haremos\n",
    "# mas adelante\n",
    "class IteradorListaNumeros:\n",
    "    pass\n",
    "\n",
    "class ListaLigadaIterable(ListaLigadaPersonas):\n",
    "\n",
    "  # al heredar vamos a tener exactamente lo mismo que la clase padre\n",
    "  def __iter__(self):\n",
    "    return IteradorListaNumeros(self.cabeza) "
   ]
  },
  {
   "cell_type": "markdown",
   "metadata": {},
   "source": [
    "# Iterador\n",
    "Los iteradores corresponden a objetos que se encargan de recorrer los iterables y su particularidad es que deben definir los métodos `__iter__` y `__next__`.\n",
    "* `__next__`: este método se encarga de retornar los valores hasta quedarse sin elementos, si se terminaron los elementos este método levanta una excepción.\n",
    "* `__iter__`: este método retorna una referencia a si mismo (`return self`)."
   ]
  },
  {
   "cell_type": "code",
   "execution_count": null,
   "metadata": {},
   "outputs": [],
   "source": [
    "class IteradorListaNumeros:\n",
    "  def __init__(self, cabeza):\n",
    "    self.cabeza = cabeza\n",
    "\n",
    "  def __next__(self):\n",
    "    if self.cabeza is None:\n",
    "      raise StopIteration(\"Llegamos al final\")\n",
    "    else:\n",
    "      valor_actual = (self.cabeza.nombre, self.cabeza.edad)\n",
    "      self.cabeza = self.cabeza.siguiente\n",
    "      return valor_actual\n",
    "\n",
    "  def __iter__(self):\n",
    "    return self\n",
    "  "
   ]
  },
  {
   "cell_type": "code",
   "execution_count": null,
   "metadata": {},
   "outputs": [
    {
     "name": "stdout",
     "output_type": "stream",
     "text": [
      "Ayudantes de Avanzada\n",
      "Julio: 21 años\n",
      "Felipe: 21 años\n",
      "Diego: 21 años\n",
      "Alejandro: 21 años\n",
      "Clemente: 21 años\n"
     ]
    }
   ],
   "source": [
    "lista = ListaLigadaIterable()\n",
    "lista.agregar(\"Julio\", 27)\n",
    "lista.agregar(\"Felipe\", 21)\n",
    "lista.agregar(\"Diego\", 21)\n",
    "lista.agregar(\"Alejandro\", 21)\n",
    "lista.agregar(\"Clemente\", 21)\n",
    "\n",
    "print(\"Ayudantes de Avanzada\")\n",
    "for ayudante in lista:\n",
    "    print(f\"{ayudante[0]}: {ayudante[1]} años\")"
   ]
  }
 ],
 "metadata": {
  "kernelspec": {
   "display_name": "Python 3",
   "language": "python",
   "name": "python3"
  },
  "language_info": {
   "codemirror_mode": {
    "name": "ipython",
    "version": 3
   },
   "file_extension": ".py",
   "mimetype": "text/x-python",
   "name": "python",
   "nbconvert_exporter": "python",
   "pygments_lexer": "ipython3",
   "version": "3.11.7"
  }
 },
 "nbformat": 4,
 "nbformat_minor": 2
}

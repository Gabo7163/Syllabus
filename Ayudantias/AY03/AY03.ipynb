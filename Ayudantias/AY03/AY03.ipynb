{
 "cells": [
  {
   "cell_type": "markdown",
   "metadata": {},
   "source": [
    "# Ayudantia 03 : OOP Avanzado"
   ]
  },
  {
   "cell_type": "markdown",
   "metadata": {},
   "source": [
    "## Ayudantes\n",
    "\n",
    "* Julio Huerta\n",
    "* Felipe Vidal\n",
    "* Diego Toledo\n",
    "* Alejandro Held\n",
    "* Clemente Campos"
   ]
  },
  {
   "cell_type": "markdown",
   "metadata": {
    "vscode": {
     "languageId": "plaintext"
    }
   },
   "source": [
    "## Tópicos\n",
    "\n",
    "* Properties\n",
    "* Herencia\n",
    "    * *Overriding* de métodos\n",
    "    * Uso de `super()`\n",
    "* Multiherencia\n",
    "    * Problema del diamante\n",
    "    * `super()` con *args* y *kwargs*\n",
    "\n"
   ]
  },
  {
   "cell_type": "markdown",
   "metadata": {},
   "source": [
    "# Introducción:\n",
    "\n",
    "La programación orientada a objetos es un paradigma de programación basado en el concepto de clases y objetos, ademas de la interacción entre estos ultimos. Los objetos tiene atributos, los cuales son modificables bajo métodos del mismo objeto o en su interacción con otros. Ademas la POO fomenta la reutilización de codigo, buscando reducir la reescritura del mismo para lograr un mayor pragmatismo.\n",
    "\n",
    "La POO es en la actualidad soportada por diversos lenguajes de programación, entre ellos: C#, Java, Ruby y Python. Donde por ejemplo en Python todo lo existente en el lenguaje es un objeto."
   ]
  },
  {
   "cell_type": "markdown",
   "metadata": {},
   "source": [
    "# ¿Que sabemos hacer hasta ahora?\n",
    "\n",
    "Como ya saben, los objetos permiten almacenar variables dentro de atributos y funciones dentro de los métodos. De esta forma se logra encapsular un comportamiento deseado dentro del objeto.\n",
    "\n",
    "Pese a esto, con las herramientas que tenemos nos surjen algunos problemas al momento de modelar ciertos comportamientos. Por ejemplo, digamos que quiero modelar un pokemon. Dentro del mundo pokemon, cada pokemon puede tener un nivel de entre 1 y 100. Luego cualquier valor fuera de este rango carece de sentido. Pero vemos el siguiente código..."
   ]
  },
  {
   "cell_type": "code",
   "execution_count": 144,
   "metadata": {},
   "outputs": [
    {
     "name": "stdout",
     "output_type": "stream",
     "text": [
      "Rattata Es de nivel -20000\n"
     ]
    }
   ],
   "source": [
    "from random import random, seed\n",
    "\n",
    "# Por ahora nos vamos a concentrar solo en los atributos\n",
    "class PokemonNormal():\n",
    "\n",
    "    def __init__(self, nombre, hp, defensa, ataque_base, critico):\n",
    "        self.nombre = nombre\n",
    "        self.hp = hp\n",
    "        self.defensa = defensa\n",
    "        self.ataque_base = ataque_base\n",
    "        self.critico = critico\n",
    "        self.multiplicador_crit = 1.5\n",
    "        self.experiencia = 0\n",
    "        self.nivel = 1\n",
    "        self.debilitado = False\n",
    "\n",
    "\n",
    "\n",
    "rattata = PokemonNormal(nombre=\"Rattata\", hp=5000, defensa=8888, ataque_base=9001, critico=1)\n",
    "\n",
    "rattata.nivel = -20000\n",
    "\n",
    "print(f\"{rattata.nombre} Es de nivel {rattata.nivel}\")"
   ]
  },
  {
   "cell_type": "code",
   "execution_count": 145,
   "metadata": {},
   "outputs": [
    {
     "name": "stdout",
     "output_type": "stream",
     "text": [
      "\n",
      "Estadisticas ratata:\n",
      "    nivel: -20000\n",
      "    hp: -2000\n",
      "    debilitado: Talvez, no sé\n",
      "    experiencia: -20000\n",
      "\n"
     ]
    }
   ],
   "source": [
    "rattata.hp = -2000\n",
    "rattata.debilitado = \"Talvez, no sé\"\n",
    "rattata.experiencia = -10000\n",
    "\n",
    "print(f\"\"\"\n",
    "Estadisticas ratata:\n",
    "    nivel: {rattata.nivel}\n",
    "    hp: {rattata.hp}\n",
    "    debilitado: {rattata.debilitado}\n",
    "    experiencia: {rattata.nivel}\n",
    "\"\"\")\n"
   ]
  },
  {
   "cell_type": "markdown",
   "metadata": {},
   "source": [
    "Como puedes ver, se pueden cambiar de forma arbitraria los valores de cualquier atributo sin que el programa te lo impida. Eso lleva a que nuestro objeto de ratata deje de tener sentido y no refleje aquello que nosotros queremos. 😭\n",
    "\n",
    "Por suerte, existe una solución a esto en python, esas son las propertys."
   ]
  },
  {
   "cell_type": "markdown",
   "metadata": {},
   "source": [
    "## Property\n",
    "En Python una property funciona como un atributo que posee un comportamiento personalizado al ser leído, seteado o eliminado. También puede ser visto como **un método que se \"esconde u oculta\" como atributo**. Son especialmente útiles para:\n",
    "\n",
    "* Controlar los valores de un atributo de manera más exacta, para que no se escape de cierto rango\n",
    "* Trabajar con atributos privados o internos\n",
    "* Ocultar un método para proteger información sensible, de tal forma que parezca un atributo y no una función\n",
    "\n",
    "Para nuestro caso particular, lo ocuparemos para salvar a nuestro rattata."
   ]
  },
  {
   "cell_type": "code",
   "execution_count": 146,
   "metadata": {},
   "outputs": [
    {
     "name": "stdout",
     "output_type": "stream",
     "text": [
      "Pero como tu Rattata va a ser nivel -20000.\n",
      "Rattata Es de nivel 1\n",
      "Rattata acaba de causar 100 de daño.\n"
     ]
    }
   ],
   "source": [
    "\n",
    "from random import random\n",
    "#Empezaremos solo con el atributo nivel\n",
    "class PokemonNormal():\n",
    "\n",
    "    def __init__(self, nombre, hp, defensa, ataque_base, critico):\n",
    "        self.nombre = nombre\n",
    "        self.hp = hp\n",
    "        self.defensa = defensa\n",
    "        self.ataque_base = ataque_base\n",
    "        self.critico = critico\n",
    "        self.multiplicador_crit = 1.5\n",
    "        self.experiencia = 0\n",
    "        self._nivel = 1 # Notar que se agregó un \"_\" después del \".\"\n",
    "        self.debilitado = False\n",
    "\n",
    "    @property\n",
    "    def nivel(self):\n",
    "        #Ya que no existe el atributo nivel, tenemos que esconderlo debajo de una función\n",
    "        #Para poder acceder a el valor de _nivel que es nuestro atributo privado.\n",
    "        return self._nivel\n",
    "\n",
    "    @nivel.setter\n",
    "    def nivel(self, nuevo_valor):\n",
    "        #Ahora podemos personalizar que valores están permitidos y cuales no para nivel\n",
    "        #nuevo_valor sería el valor a la que se igualó nivel\n",
    "        if 1 <= nuevo_valor <= 100 :\n",
    "            self._nivel = nuevo_valor\n",
    "        else:\n",
    "            print(f\"Pero como tu {self.nombre} va a ser nivel {nuevo_valor}.\")\n",
    "    \n",
    "\n",
    "    #Tambien podemos agregar una función escondida en un atributo sin ningun atributo asociado\n",
    "    @property\n",
    "    def ataque(self):\n",
    "        if random() < self.critico:\n",
    "            return self.ataque_base + self.ataque_base * self.multiplicador_crit\n",
    "        else:\n",
    "            return self.ataque_base\n",
    "\n",
    "    \n",
    "    \n",
    "\n",
    "rattata = PokemonNormal(nombre=\"Rattata\", hp=5000, defensa=8888, ataque_base=100, critico=0.6)\n",
    "rattata.nivel = -20000\n",
    "print(f\"{rattata.nombre} Es de nivel {rattata.nivel}\")\n",
    "print(f\"{rattata.nombre} acaba de causar {rattata.ataque} de daño.\")"
   ]
  },
  {
   "cell_type": "markdown",
   "metadata": {},
   "source": [
    "## Herencia\n",
    "\n",
    "Uno de los conceptos más importantes y fundamentales en la programación orientada a objetos. Es la **especialización** de una clase a partir de otra, heredando sus atributos y métodos, y posiblemente añadiendo nuevos.\n",
    "\n",
    "A continuación mostraremos un código que busca modelar una persona y un estudiante mediante 2 objetos. Veremos la implementación sin utilizar herencia y después utilizando herencia.\n",
    "\n",
    "### Sin usar herencia \n",
    "Tanto persona como estudiante tienen un método init muy similar, además podemos ver que saludar en ambos casos tiene un comportamiento igual. Por lo tanto en este ejemplo se **COPIA Y PEGA** código de una clase a otra."
   ]
  },
  {
   "cell_type": "code",
   "execution_count": 147,
   "metadata": {},
   "outputs": [],
   "source": [
    "class Persona:\n",
    "    def __init__(self, nombre, edad):\n",
    "        self.nombre = nombre\n",
    "        self.edad = edad\n",
    "\n",
    "    def saludar(self):\n",
    "        print(f\"Hola! me llamo {self.nombre}\")\n",
    "\n",
    "    def __str__(self):\n",
    "        return f\"{self.nombre} tiene {self.edad} años\"\n",
    "\n",
    "class Estudiante: \n",
    "\n",
    "    def __init__(self, nombre, edad, carrera):\n",
    "        self.nombre = nombre    #Copiado\n",
    "        self.edad = edad        #Copiado\n",
    "        self.carrera = carrera\n",
    "\n",
    "    def saludar(self):                         #Copiado\n",
    "        print(f\"Hola! me llamo {self.nombre}\") #Copiado\n",
    "\n",
    "    def __str__(self):                                 #Copiado\n",
    "        return f\"{self.nombre} tiene {self.edad} años\" #Copiado\n",
    "\n",
    "\n",
    "    def ir_a_clases(self):\n",
    "        print(f\"{self.nombre} está yendo a clases\")"
   ]
  },
  {
   "cell_type": "markdown",
   "metadata": {},
   "source": [
    "El código presentado tiene mucho **código repetido**. El codigo repetido se relaciona con un **código de peor calidad** debido a que provoca que el código sea menos entendible, sea más dificil de mantener y sea reduntante. En general copiar y pegar código puede llevar a problemas, para este tipo de situaciones existe la herencia.\n",
    "\n",
    "\n",
    "### Usando Herencia\n",
    "\n",
    "Debido a que un estudiante comparte el comportamiento de una persona, vamos a hacer que Estudiante **Herede** de Persona.\n",
    "\n",
    "Esto quiere decir de que Estudiante va a poder llamar a cualquier método definido en Persona. Por ejemplo un Estudiante va a poder acceder a saludar pese a que no esté definido debido a que la clase **Padre** contiene el método saludar."
   ]
  },
  {
   "cell_type": "code",
   "execution_count": 148,
   "metadata": {},
   "outputs": [],
   "source": [
    "class Persona:\n",
    "    def __init__(self, nombre, edad):\n",
    "        self.nombre = nombre\n",
    "        self.edad = edad\n",
    "\n",
    "    def saludar(self):\n",
    "        print(f\"Hola! me llamo {self.nombre}\")\n",
    "\n",
    "    def __str__(self):\n",
    "        return f\"{self.nombre} tiene {self.edad} años\"\n",
    "\n",
    "class Estudiante(Persona): # Aquí indicamos que Estudiante hereda de Persona\n",
    "\n",
    "    def __init__(self, nombre, edad, carrera):\n",
    "        # Podemos llamar a métodos de la clase padre, en este caso, el constructor\n",
    "        Persona.__init__(self, nombre, edad) # Esta forma es válida, pero no recomendada\n",
    "        self.carrera = carrera\n",
    "\n",
    "    def ir_a_clases(self):\n",
    "        print(f\"{self.nombre} está yendo a clases\")\n",
    "\n",
    "    def trabajo_semanal(self):\n",
    "        print(\"Esta semana tengo que leerme los contenido de avanzada\")\n",
    "        horas_semanales = 50\n",
    "        return horas_semanales"
   ]
  },
  {
   "cell_type": "code",
   "execution_count": 149,
   "metadata": {},
   "outputs": [
    {
     "name": "stdout",
     "output_type": "stream",
     "text": [
      "Felipe tiene 21 años\n",
      "Hola! me llamo Felipe\n",
      "\n",
      "Pipe tiene 21 años\n",
      "Hola! me llamo Pipe\n",
      "Pipe está yendo a clases\n"
     ]
    }
   ],
   "source": [
    "persona = Persona(\"Felipe\", 21)\n",
    "print(persona)\n",
    "persona.saludar()\n",
    "print(\"\")\n",
    "\n",
    "estudiante = Estudiante(\"Pipe\", 21, \"Ingeniería\")\n",
    "print(estudiante) # Vemos que el método __str__ de Persona aún funciona\n",
    "estudiante.saludar() # Al igual que el método saludar\n",
    "estudiante.ir_a_clases() # Y también podemos llamar a métodos propios de Estudiante"
   ]
  },
  {
   "cell_type": "markdown",
   "metadata": {},
   "source": [
    "### Overriding de métodos\n",
    "\n",
    "Ya vimos que una clase puede utilizar libremente los métodos definidos en su clase madre, pero también es posible **sobreescribir** métodos. Esto es útil cuando queremos que una clase hija tenga un comportamiento distinto al de su clase madre, y se conoce como *overriding*."
   ]
  },
  {
   "cell_type": "code",
   "execution_count": 150,
   "metadata": {},
   "outputs": [],
   "source": [
    "class Estudiante(Persona):\n",
    "    def __init__(self, nombre, edad, carrera):\n",
    "        super().__init__(nombre, edad)\n",
    "        self.carrera = carrera\n",
    "\n",
    "    def __str__(self): # Podemos sobreescribir el método __str__ de la clase padre\n",
    "        return f\"{self.nombre} tiene {self.edad} años y estudia {self.carrera}\"\n",
    "    \n",
    "    def saludar(self): # Y también podemos utilizar la versión \"base\" del método en la sobrescritura\n",
    "        super().saludar()\n",
    "        print(f\"Ehem... Hola, me llamo {self.nombre} *en tono académico*\")\n",
    "\n",
    "    def trabajo_semanal(self):\n",
    "        print(\"Esta semana tengo que leerme los contenido de avanzada\")\n",
    "        horas_semanales = 50\n",
    "        return horas_semanales"
   ]
  },
  {
   "cell_type": "code",
   "execution_count": 151,
   "metadata": {},
   "outputs": [
    {
     "name": "stdout",
     "output_type": "stream",
     "text": [
      "Pipe tiene 21 años y estudia Ingeniería\n",
      "Hola! me llamo Pipe\n",
      "Ehem... Hola, me llamo Pipe *en tono académico*\n"
     ]
    }
   ],
   "source": [
    "estudiante = Estudiante(\"Pipe\", 21, \"Ingeniería\")\n",
    "\n",
    "print(estudiante)\n",
    "estudiante.saludar()"
   ]
  },
  {
   "cell_type": "markdown",
   "metadata": {},
   "source": [
    "### Uso de `super()`\n",
    "\n",
    "En el ejemplo inicial, vimos que para llamar a un método de la clase madre, se utilizaba `Persona.__init__(self, nombre, edad)`, especificando el nombre de la clase madre. Sin embargo, esto no es necesario, ya que Python provee la función `super()`, que se encarga de encontrar la clase madre de la clase actual.\n",
    "\n",
    "En el segundo ejemplo de Estudiante, se implementó en el método `saludar()`\n",
    "\n",
    "```python\n",
    "    ...\n",
    "    def saludar(self): # Y también podemos utilizar la versión \"base\" del método en la sobrescritura\n",
    "        super().saludar() # Esto es equivalente a Persona.saludar(self)\n",
    "        print(f\"Ehem... Hola, me llamo {self.nombre} *en tono académico*\")\n",
    "    ...\n",
    "```"
   ]
  },
  {
   "cell_type": "markdown",
   "metadata": {},
   "source": [
    "## Multiherencia\n",
    "\n",
    "Python permite heredar de más de una clase a la vez, permitiendo el uso de métodos y atributos de todas las clases madres."
   ]
  },
  {
   "cell_type": "code",
   "execution_count": 152,
   "metadata": {},
   "outputs": [],
   "source": [
    "class Estudiante(Persona):\n",
    "\n",
    "    def __init__(self, nombre, edad, carrera):\n",
    "        Persona.__init__(self, nombre, edad)\n",
    "        self.carrera = carrera    \n",
    "\n",
    "    def saludar(self):\n",
    "        Persona.saludar(self)\n",
    "        print(f\"Ehem... Hola, me llamo {self.nombre} *en tono académico*\")\n",
    "    \n",
    "    def trabajo_semanal(self):\n",
    "        print(\"Esta semana tengo que leerme los contenido de avanzada\")\n",
    "        horas_semanales = 50\n",
    "        return horas_semanales\n",
    "\n",
    "\n",
    "\n",
    "class Profesor(Persona):\n",
    "    def __init__(self, nombre, edad, especialidad):\n",
    "        Persona.__init__(self, nombre, edad)\n",
    "        self.especialidad = especialidad\n",
    "\n",
    "    def __str__(self):\n",
    "        return f\"{self.nombre} tiene {self.edad} años y es profesora de {self.especialidad}\"\n",
    "    \n",
    "    def saludar(self):\n",
    "        Persona.saludar(self)\n",
    "        print(f\"Buenas, soy la profesora {self.nombre}\")\n",
    "\n",
    "    def trabajo_semanal(self):\n",
    "        print(\"Esta semana tengo que preparar el ppt del jueves\")\n",
    "        horas_semanales = 30\n",
    "        return horas_semanales\n",
    "\n",
    "    \n",
    "\n",
    "\n",
    "class ProfesorMagister(Profesor, Estudiante):\n",
    "    def __init__(self, nombre, edad, especialidad, carrera):\n",
    "        Profesor.__init__(self, nombre, edad, especialidad)\n",
    "        Estudiante.__init__(self, nombre, edad, carrera)\n",
    "\n",
    "    def __str__(self):\n",
    "        return f\"{self.nombre} tiene {self.edad} años, es profesora de {self.especialidad} y estudia {self.carrera}\"\n",
    "\n",
    "    def saludar(self):\n",
    "        Profesor.saludar(self)\n",
    "        Estudiante.saludar(self)\n",
    "        print(f\"Soy profesor y estudiante a la vez!\")"
   ]
  },
  {
   "cell_type": "code",
   "execution_count": 153,
   "metadata": {},
   "outputs": [
    {
     "name": "stdout",
     "output_type": "stream",
     "text": [
      "Dani tiene 18 años, es profesora de Programación y estudia Computación\n",
      "Hola! me llamo Dani\n",
      "Buenas, soy la profesora Dani\n",
      "Hola! me llamo Dani\n",
      "Ehem... Hola, me llamo Dani *en tono académico*\n",
      "Soy profesor y estudiante a la vez!\n"
     ]
    }
   ],
   "source": [
    "profesor = ProfesorMagister(\"Dani\", 18, \"Programación\", \"Computación\")\n",
    "print(profesor)\n",
    "profesor.saludar()"
   ]
  },
  {
   "cell_type": "markdown",
   "metadata": {},
   "source": [
    "### El problema del diamante\n",
    "\n",
    "¿Qué sucedió? Si nos fijamos en los prints, vemos que el método `saludar()` de la clase `Persona` se ejecutó dos veces. Esto se debe a que la clase `ProfesorMagister` hereda de `Estudiante` y `Profesor`, y ambas heredan de `Persona`. \n",
    "\n",
    "¿Como solucionamos esto? En lugar de llamar directamente a los métodos de las clases madres, utilizamos `super()` y dejamos que Python se encargue de llamar los métodos correctos hacia arriba en la jerarquía.\n",
    "\n",
    "Usaremos `super()` para arreglar el método `saludar()`, pero también los métodos `__init__()`, pues sufren del mismo problema."
   ]
  },
  {
   "cell_type": "code",
   "execution_count": 167,
   "metadata": {},
   "outputs": [],
   "source": [
    "class Persona:\n",
    "\n",
    "    def __init__(self, nombre, edad):\n",
    "        self.nombre = nombre\n",
    "        self.edad = edad\n",
    "\n",
    "    def saludar(self):\n",
    "        print(f\"Hola! me llamo {self.nombre}\")\n",
    "\n",
    "\n",
    "class Estudiante(Persona):\n",
    "\n",
    "    def __init__(self, nombre, edad, carrera):\n",
    "        super().__init__(nombre, edad)\n",
    "        self.carrera = carrera\n",
    "\n",
    "    def saludar(self):\n",
    "        super().saludar() # Reemplazamos Persona por super\n",
    "        print(f\"Ehem... Hola, me llamo {self.nombre} *en tono académico*\")\n",
    "\n",
    "    def trabajo_semanal(self):\n",
    "        print(\"Esta semana tengo que leerme los contenido de avanzada\")\n",
    "        horas_semanales = 50\n",
    "        return horas_semanales\n",
    "\n",
    "\n",
    "class Profesor(Persona):\n",
    "\n",
    "    def __init__(self, nombre, edad, especialidad):\n",
    "        super().__init__(nombre, edad)\n",
    "        self.especialidad = especialidad\n",
    "    \n",
    "    def saludar(self):\n",
    "        super().saludar() # Reemplazamos Persona por super\n",
    "        print(f\"Buenas, soy la profesora {self.nombre}\")\n",
    "\n",
    "    def trabajo_semanal(self):\n",
    "        print(\"Esta semana tengo que preparar el ppt del jueves\")\n",
    "        horas_semanales = 30\n",
    "        return horas_semanales\n",
    "\n",
    "\n",
    "class ProfesorMagister(Profesor, Estudiante):\n",
    "\n",
    "    def __init__(self, nombre, edad, especialidad, carrera):\n",
    "        super().__init__(nombre, edad, especialidad, carrera) # Lo mismo que para saludar, se puede hacer para el init\n",
    "\n",
    "    def saludar(self):\n",
    "        super().saludar() # Aquí utilizamos super una única vez en lugar de dos llamados\n",
    "        print(f\"Soy profesor y estudiante a la vez!\")"
   ]
  },
  {
   "cell_type": "code",
   "execution_count": 168,
   "metadata": {},
   "outputs": [
    {
     "ename": "TypeError",
     "evalue": "Profesor.__init__() takes 4 positional arguments but 5 were given",
     "output_type": "error",
     "traceback": [
      "\u001b[1;31m---------------------------------------------------------------------------\u001b[0m",
      "\u001b[1;31mTypeError\u001b[0m                                 Traceback (most recent call last)",
      "Cell \u001b[1;32mIn[168], line 1\u001b[0m\n\u001b[1;32m----> 1\u001b[0m profesor \u001b[38;5;241m=\u001b[39m \u001b[43mProfesorMagister\u001b[49m\u001b[43m(\u001b[49m\u001b[38;5;124;43m\"\u001b[39;49m\u001b[38;5;124;43mDani\u001b[39;49m\u001b[38;5;124;43m\"\u001b[39;49m\u001b[43m,\u001b[49m\u001b[43m \u001b[49m\u001b[38;5;241;43m18\u001b[39;49m\u001b[43m,\u001b[49m\u001b[43m \u001b[49m\u001b[38;5;124;43m\"\u001b[39;49m\u001b[38;5;124;43mProgramación\u001b[39;49m\u001b[38;5;124;43m\"\u001b[39;49m\u001b[43m,\u001b[49m\u001b[43m \u001b[49m\u001b[38;5;124;43m\"\u001b[39;49m\u001b[38;5;124;43mComputación\u001b[39;49m\u001b[38;5;124;43m\"\u001b[39;49m\u001b[43m)\u001b[49m\n\u001b[0;32m      2\u001b[0m profesor\u001b[38;5;241m.\u001b[39msaludar()\n",
      "Cell \u001b[1;32mIn[167], line 46\u001b[0m, in \u001b[0;36mProfesorMagister.__init__\u001b[1;34m(self, nombre, edad, especialidad, carrera)\u001b[0m\n\u001b[0;32m     45\u001b[0m \u001b[38;5;28;01mdef\u001b[39;00m \u001b[38;5;21m__init__\u001b[39m(\u001b[38;5;28mself\u001b[39m, nombre, edad, especialidad, carrera):\n\u001b[1;32m---> 46\u001b[0m     \u001b[38;5;28;43msuper\u001b[39;49m\u001b[43m(\u001b[49m\u001b[43m)\u001b[49m\u001b[38;5;241;43m.\u001b[39;49m\u001b[38;5;21;43m__init__\u001b[39;49m\u001b[43m(\u001b[49m\u001b[43mnombre\u001b[49m\u001b[43m,\u001b[49m\u001b[43m \u001b[49m\u001b[43medad\u001b[49m\u001b[43m,\u001b[49m\u001b[43m \u001b[49m\u001b[43mespecialidad\u001b[49m\u001b[43m,\u001b[49m\u001b[43m \u001b[49m\u001b[43mcarrera\u001b[49m\u001b[43m)\u001b[49m\n",
      "\u001b[1;31mTypeError\u001b[0m: Profesor.__init__() takes 4 positional arguments but 5 were given"
     ]
    }
   ],
   "source": [
    "profesor = ProfesorMagister(\"Dani\", 18, \"Programación\", \"Computación\")\n",
    "profesor.saludar()"
   ]
  },
  {
   "cell_type": "markdown",
   "metadata": {},
   "source": [
    "Un momento, ¿qué sucedió? Al inicializar ProfesorMagister, tuvimos un problema al inicializar la clase Profesor, puesto que pasamos TODOS los argumentos hacia arriba, pero Profesor no necesita todos ellos, algunos corresponden a Alumno. Además, no sabemos en qué orden Python va a llamar a las clases madres. Entonces, ¿cómo solucionamos esto?\n",
    "\n",
    "### `super()` con *args* y *kwargs*\n",
    "Podemos seguir pasando todos los argumentos hacia arriba y dejar que Python se encargue, pero ahora le diremos a cada clase que tome solamente los argumentos que necesita y deje pasar el resto. Esto se logra con `*args` y `**kwargs`.\n",
    "\n",
    "```python\n",
    "class Profesor(Persona):\n",
    "\n",
    "    def __init__(self, nombre, edad, especialidad, *args, **kwargs):\n",
    "        super().__init__(nombre, edad, *args, **kwargs)\n",
    "        self.especialidad = especialidad\n",
    "```\n",
    "\n",
    "En este caso, al recibir `*args` y `**kwargs` como parámetros, el método puede recibir \"más argumentos de los que necesita\" sin lanzar errores. Estos estarán guardados dentro de `args` y `kwargs`. Luego, ya que esos argumentos siguen siendo necesarios para el resto de inicializadores, como `carrera` en la clase `Alumno`, se pasan hacia el siguiente inicializador de la misma forma.\n",
    "\n",
    "Entonces, el ejemplo corregido luce así:\n"
   ]
  },
  {
   "cell_type": "code",
   "execution_count": 161,
   "metadata": {},
   "outputs": [],
   "source": [
    "class Persona:\n",
    "\n",
    "    def __init__(self, nombre, edad, *args, **kwargs):\n",
    "        super().__init__(*args, **kwargs)\n",
    "        self.nombre = nombre\n",
    "        self.edad = edad\n",
    "\n",
    "    def saludar(self):\n",
    "        print(f\"Hola! me llamo {self.nombre}\")\n",
    "\n",
    "\n",
    "class Estudiante(Persona):\n",
    "\n",
    "    def __init__(self, nombre, edad, carrera, *args, **kwargs):\n",
    "        super().__init__(nombre, edad, *args, **kwargs)\n",
    "        self.carrera = carrera\n",
    "\n",
    "    def saludar(self):\n",
    "        super().saludar()\n",
    "        print(f\"Ehem... Hola, me llamo {self.nombre} *en tono académico*\")\n",
    "\n",
    "    def trabajo_semanal(self):\n",
    "        print(\"Esta semana tengo que leerme los contenido de avanzada\")\n",
    "        horas_semanales = 50\n",
    "        return horas_semanales\n",
    "\n",
    "\n",
    "class Profesor(Persona):\n",
    "\n",
    "    def __init__(self, nombre, edad, especialidad, *args, **kwargs):\n",
    "        super().__init__(nombre, edad, *args, **kwargs)\n",
    "        self.especialidad = especialidad\n",
    "    \n",
    "    def saludar(self):\n",
    "        super().saludar()\n",
    "        print(f\"Buenas, soy la profesora {self.nombre}\")\n",
    "\n",
    "    def trabajo_semanal(self):\n",
    "        print(\"Esta semana tengo que preparar el ppt del jueves\")\n",
    "        horas_semanales = 30\n",
    "        return horas_semanales\n",
    "\n",
    "\n",
    "\n",
    "\n",
    "class ProfesorMagister(Profesor, Estudiante):\n",
    "\n",
    "    def __init__(self, nombre, edad, especialidad, carrera):\n",
    "        super().__init__(nombre, edad, especialidad, carrera)\n",
    "\n",
    "    def saludar(self):\n",
    "        super().saludar()\n",
    "        print(f\"Soy profesor y estudiante a la vez!\")\n",
    "    \n",
    "\n",
    "    #En el siguiente caso no se utiliza súper, debido a que se quiere utilizar\n",
    "    #El método de Profesor y Estudiante\n",
    "    def trabajo_semanal(self):\n",
    "        horas_semanales = Profesor.trabajo_semanal(self) + Estudiante.trabajo_semanal(self)\n",
    "        print(f\"Esta semana tengo que trabajar {horas_semanales}\")"
   ]
  },
  {
   "cell_type": "code",
   "execution_count": 163,
   "metadata": {},
   "outputs": [
    {
     "name": "stdout",
     "output_type": "stream",
     "text": [
      "Hola! me llamo Dani\n",
      "Ehem... Hola, me llamo Dani *en tono académico*\n",
      "Buenas, soy la profesora Dani\n",
      "Soy profesor y estudiante a la vez!\n",
      "\n",
      "Esta semana tengo que preparar el ppt del jueves\n",
      "Esta semana tengo que leerme los contenido de avanzada\n",
      "Esta semana tengo que trabajar 80\n"
     ]
    }
   ],
   "source": [
    "profesor = ProfesorMagister(\"Dani\", 18, \"Programación\", \"Computación\")\n",
    "profesor.saludar()\n",
    "\n",
    "print(\"\")\n",
    "profesor.trabajo_semanal()\n"
   ]
  },
  {
   "cell_type": "markdown",
   "metadata": {},
   "source": [
    "### Extra: ¿En que orden llama super() a los métodos?\n",
    "Eso se puede ver con el siguiente método"
   ]
  },
  {
   "cell_type": "code",
   "execution_count": 166,
   "metadata": {},
   "outputs": [
    {
     "name": "stdout",
     "output_type": "stream",
     "text": [
      "(<class '__main__.ProfesorMagister'>, <class '__main__.Profesor'>, <class '__main__.Estudiante'>, <class '__main__.Persona'>, <class 'object'>)\n"
     ]
    }
   ],
   "source": [
    "print(ProfesorMagister.__mro__)"
   ]
  }
 ],
 "metadata": {
  "kernelspec": {
   "display_name": "Python 3",
   "language": "python",
   "name": "python3"
  },
  "language_info": {
   "codemirror_mode": {
    "name": "ipython",
    "version": 3
   },
   "file_extension": ".py",
   "mimetype": "text/x-python",
   "name": "python",
   "nbconvert_exporter": "python",
   "pygments_lexer": "ipython3",
   "version": "3.11.7"
  }
 },
 "nbformat": 4,
 "nbformat_minor": 2
}

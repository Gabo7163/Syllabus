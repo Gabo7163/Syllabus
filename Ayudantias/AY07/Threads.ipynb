{
 "cells": [
  {
   "cell_type": "markdown",
   "id": "f04a218a",
   "metadata": {},
   "source": [
    "# Ayudantía 04: Threads 🧵\n",
    "\n",
    "Ayudantes:\n",
    "\n",
    "- Julio Huerta\n",
    "- Felipe Vidal\n",
    "- Diego Toledo\n",
    "- Alejandro Held\n",
    "- Clemente Campos"
   ]
  },
  {
   "cell_type": "markdown",
   "id": "711fd34a",
   "metadata": {},
   "source": [
    "### ¿Qué hemos visto hasta ahora?\n",
    "\n",
    "* Programas que ejecutan sólo una secuencia de instrucciones a la vez. Siguen un único flujo que comienza, ejecuta instrucciones, y en algún momento termina.\n",
    "\n",
    "\n",
    "-> Sin embargo, Muchas aplicaciones realizan múltiples acciones simultáneamente.Programas que ejecutan solo una secuencia de instrucciones a la vez no permiten implementar este tipo de comportamiento."
   ]
  },
  {
   "cell_type": "markdown",
   "id": "02ebd7b3",
   "metadata": {},
   "source": [
    "### Solución: Threads :\n",
    "\n",
    "Un thread es una secuencia de instrucciones que puede ser ejecutada en paralelo a otras, lo que permite realizar más de una acción a la vez."
   ]
  },
  {
   "cell_type": "markdown",
   "id": "2058e68e",
   "metadata": {},
   "source": [
    "### Ejemplo de uso de Threads\n",
    "\n",
    "* **Interfaces Gráficas** o Programas donde se debe interactuar con el usuario y realizar cómputos pesados a la vez\n",
    "\n",
    "\n",
    "* **Servidores web** para manejar multiples conexiones entrantes, donde a cada conexión se le asigna un thread\n",
    "\n",
    "\n",
    "* Programas que siguen el **modelo producto consumidor**, como por ejemplo, un thread que se encargue de poner los frames capturados desde una cámara de video en una cola, y otro thread que procese estos cuadros y los saque de la cola.\n",
    "\n",
    "* **Simulaciones de sistemas**, donde cada thread puede simular un proceso o evento en paralelo (como autos en una ciudad)"
   ]
  },
  {
   "cell_type": "markdown",
   "id": "3c1dfa4e",
   "metadata": {},
   "source": [
    "### ¿Cómo crear Threads?\n",
    "Debemos importar la librería threading para utilizar la clase Thread"
   ]
  },
  {
   "cell_type": "code",
   "execution_count": 1,
   "id": "0ec488b5",
   "metadata": {},
   "outputs": [
    {
     "name": "stdout",
     "output_type": "stream",
     "text": [
      "Esto es un thread\n"
     ]
    }
   ],
   "source": [
    "import threading\n",
    "\n",
    "def funcion():\n",
    "    print(\"Esto es un thread\")\n",
    "\n",
    "mi_hilo = threading.Thread(target=funcion, name=\"HILO1\")\n",
    "mi_hilo.start()"
   ]
  },
  {
   "cell_type": "markdown",
   "id": "837a1aac",
   "metadata": {},
   "source": [
    "### ¿Y si nuestra funcion recibe argumentos?\n",
    "**No hay Problema!**, los podemos pasar con args o kwargs"
   ]
  },
  {
   "cell_type": "code",
   "execution_count": 2,
   "id": "9e3f6eb9",
   "metadata": {},
   "outputs": [
    {
     "name": "stdout",
     "output_type": "stream",
     "text": [
      "Thread 1 tiene sueño...\n",
      "Thread 2 tiene sueño...\n"
     ]
    },
    {
     "name": "stdout",
     "output_type": "stream",
     "text": [
      "(Thread 1: 1 oveja)\n",
      "(Thread 2: 1 oveja)\n",
      "(Thread 2: 2 ovejas)(Thread 1: 2 ovejas)\n",
      "\n",
      "(Thread 2: 3 ovejas)\n",
      "(Thread 1: 3 ovejas)\n",
      "(Thread 1: 4 ovejas)(Thread 2: 4 ovejas)\n",
      "\n",
      "(Thread 2: 5 ovejas)\n",
      "(Thread 1: 5 ovejas)\n",
      "(Thread 2: 6 ovejas)\n",
      "(Thread 1: 6 ovejas)\n",
      "(Thread 2: 7 ovejas)\n",
      "(Thread 1: 7 ovejas)\n",
      "(Thread 2: 8 ovejas)\n",
      "(Thread 1: 8 ovejas)\n",
      "(Thread 2: 9 ovejas)\n",
      "(Thread 1: 9 ovejas)\n",
      "(Thread 2: 10 ovejas)\n",
      "(Thread 1: 10 ovejas)\n",
      "Thread 1 a dormir...\n",
      "(Thread 2: 11 ovejas)\n",
      "(Thread 2: 12 ovejas)\n",
      "(Thread 2: 13 ovejas)\n",
      "(Thread 2: 14 ovejas)\n",
      "(Thread 2: 15 ovejas)\n",
      "Thread 2 a dormir...\n"
     ]
    }
   ],
   "source": [
    "import threading\n",
    "import time\n",
    "\n",
    "def contar_ovejas_hasta(max_ovejas):\n",
    "    thread_actual = threading.current_thread()\n",
    "    print(f\"{thread_actual.name} tiene sueño...\")\n",
    "    for numero in range(1, max_ovejas + 1):\n",
    "        time.sleep(1)\n",
    "        print(f\"({thread_actual.name}: {numero} oveja{'s' if numero > 1 else ''})\")\n",
    "    print(f\"{thread_actual.name} a dormir...\")\n",
    "\n",
    "\n",
    "# Se crean los threads usando la clase Thread, asociada a la función objetivo para \n",
    "# ser ejecutada por el thread, y los atributos de la función son ingresados en \n",
    "# args o kwargs\n",
    "\n",
    "t1 = threading.Thread(name=\"Thread 1\", target=contar_ovejas_hasta, args=(10,))\n",
    "t2 = threading.Thread(name=\"Thread 2\", target=contar_ovejas_hasta, kwargs={\"max_ovejas\": 15})\n",
    "t1.start()\n",
    "t2.start()"
   ]
  },
  {
   "cell_type": "markdown",
   "id": "feb820bc",
   "metadata": {},
   "source": [
    "### Join ⌛\n",
    "Un método útil es el `join()`, éste nos permite esperar a que otro thread finalice su ejecución para continuar con el resto del código. También podemos usar `join(timeout=tiempo)`, con tiempo como la cantidad de segundos máxima que se esperará al thread, en caso de que `tiempo=None` o al no darle argumentos, se esperará hasta que el thread termine su ejecución."
   ]
  },
  {
   "cell_type": "code",
   "execution_count": 3,
   "id": "03b7bf8d",
   "metadata": {},
   "outputs": [
    {
     "name": "stdout",
     "output_type": "stream",
     "text": [
      "Empezando a cocinar una Pizza de Champiñones!\n",
      "Pizza lista y salida del Horno\n",
      "\n",
      "Sentandose a degustar una rica pizza\n"
     ]
    },
    {
     "name": "stdout",
     "output_type": "stream",
     "text": [
      "Estaba muy buena... ¿ y si hacemos otra ?\n"
     ]
    }
   ],
   "source": [
    "import threading\n",
    "import time\n",
    "\n",
    "def cocinar_pizza():\n",
    "    print(\"Empezando a cocinar una Pizza de Champiñones!\")\n",
    "    time.sleep(5)\n",
    "    print(\"Pizza lista y salida del Horno\")\n",
    "    \n",
    "def comer_pizza():\n",
    "    print(\"\\nSentandose a degustar una rica pizza\")\n",
    "    time.sleep(3)\n",
    "    print(\"Estaba muy buena... ¿ y si hacemos otra ?\")\n",
    "    \n",
    "cocinar = threading.Thread(target=cocinar_pizza)\n",
    "comer = threading.Thread(target=comer_pizza)\n",
    "\n",
    "cocinar.start()\n",
    "cocinar.join()\n",
    "\n",
    "comer.start()\n",
    "\n"
   ]
  },
  {
   "cell_type": "markdown",
   "id": "ce964138",
   "metadata": {},
   "source": [
    "### Daemon Threads 👹\n",
    "\n",
    "Anteriormente el programa ha esperado que terminen los threads para poder terminar. Con los Daemons threads no necesitamos preocuparnos de si terminaron o no, ya que cuando el programa principal termina, estos terminan automáticamente. Para identificar que los threads son de este tipo debemos poner en el constructor `daemon=True` o utilizando el metodo `setDaemon(True)`. Una vez inicializado el thread con `start()` no puedes cambiarlo de daemon thread a thread o viceversa."
   ]
  },
  {
   "cell_type": "code",
   "execution_count": 7,
   "id": "72556601",
   "metadata": {},
   "outputs": [
    {
     "name": "stdout",
     "output_type": "stream",
     "text": [
      "Normal: 1\n",
      "Daemon: 1\n"
     ]
    },
    {
     "name": "stdout",
     "output_type": "stream",
     "text": [
      "Daemon: 2Normal: 2\n",
      "\n",
      "Normal: 3Daemon: 3\n",
      "\n",
      "Daemon: 4Normal: 4\n",
      "\n",
      "Daemon: 5\n",
      "Daemon: 6\n",
      "Daemon: 7\n",
      "Daemon: 8\n",
      "Daemon: 9\n"
     ]
    }
   ],
   "source": [
    "# Probar en la consola en demoniaco.py\n",
    "import time\n",
    "\n",
    "def contador(clave,maximo):\n",
    "    for j in range(1, maximo):\n",
    "        print(f\"{clave}: {int(j)}\")\n",
    "        time.sleep(1)\n",
    "        \n",
    "\n",
    "conteo_5 = threading.Thread(target=contador, args=(\"Normal\", 5,))\n",
    "conteo_100 = threading.Thread(target=contador, args=(\"Daemon\", 10,) , daemon=True)\n",
    "\n",
    "conteo_5.start()\n",
    "conteo_100.start()"
   ]
  },
  {
   "cell_type": "markdown",
   "id": "c71f42b9",
   "metadata": {},
   "source": [
    "### Threads Personalizados 📚\n",
    "**Como ya eres un genio de la programación orientada objetos**, quieres hacer threads personalizados, ¡qué gran idea!\n",
    "\n",
    "#### ¿Cómo se hacen?\n",
    "Primero debemos heredar de la clase Thread, y en el init debemos llamar al `super()`, tal como lo aprendiste en OOP Luego debemos hacer override al método `run()`, ya que este es el ejecutado cuando llamamos a `mi_thread.start()`."
   ]
  },
  {
   "cell_type": "code",
   "execution_count": 12,
   "id": "fb729acf",
   "metadata": {},
   "outputs": [],
   "source": [
    "import threading\n",
    "\n",
    "class DummyThread(threading.Thread):\n",
    "    \n",
    "    def __init__(self):\n",
    "        super().__init__()\n",
    "        # Cuando inicializamos el thread lo declaramos como daemon\n",
    "        # self.daemon = True\n",
    "    \n",
    "    def run(self):\n",
    "        print(\"Daemon thread: Empezando...\")\n",
    "        time.sleep(2)\n",
    "        print(\"Daemon thread: Terminando...\")\n",
    "\n",
    "\n",
    "daemon = DummyThread()\n",
    "daemon.start()\n",
    "daemon.join()"
   ]
  },
  {
   "cell_type": "markdown",
   "id": "6ebf8d28",
   "metadata": {},
   "source": [
    "### Seciones Criticas ⚠️\n",
    "Una sección crítica es una porción de código que accede a recursos compartidos que pueden ser modificados por múltiples threads de manera concurrente. Si dos o más threads intentan modificar estos recursos simultáneamente pueden llevar a resultados inesperados o incorrectos. Por ejemplo:\n",
    "* Si dos Threads intentan sumar sobre una variable al mismo tiempo, uno de los dos no lograra sumar ya que el otro lo bloquea\n",
    "* Si dos Threads intentan imprimir en consola al mismo tiempo, puede que no se realicen los saltos de linea de forma correcta\n",
    "\n",
    "Como evitamos esto? con **Sincronización**"
   ]
  },
  {
   "cell_type": "markdown",
   "id": "69b20e5d",
   "metadata": {},
   "source": [
    "### Locks 🔐\n",
    "La clase Lock de la librería threading permite que haya un solo thread en una sección crítica a la vez, para esto es importante que los diferentes Threads compartan el mismo lock. Estos locks pueden estar desbloqueados (inicialmente) o bloqueados. \n",
    "\n",
    "* El metodo `acquire()` permite adquirir el lock por parte de un thread y dejarlo bloqueado para los otros.\n",
    "* Por su parte el metodo `release()` libera el lock (lo desbloquea), quedando disponible para que cualquier thread pueda adquirirlo."
   ]
  },
  {
   "cell_type": "code",
   "execution_count": 15,
   "id": "f3befebf",
   "metadata": {},
   "outputs": [
    {
     "name": "stdout",
     "output_type": "stream",
     "text": [
      "2000000\n"
     ]
    }
   ],
   "source": [
    "class Contador:\n",
    "    \n",
    "    def __init__(self):\n",
    "        self.valor = 0\n",
    "        \n",
    "# ¿que número debería dar?\n",
    "conteo = 0\n",
    "\n",
    "for _ in range(10 ** 6):\n",
    "        conteo += 1\n",
    "\n",
    "for _ in range(10 ** 6):\n",
    "        conteo += 1\n",
    "        \n",
    "print(conteo)"
   ]
  },
  {
   "cell_type": "code",
   "execution_count": 17,
   "id": "825f5e84",
   "metadata": {},
   "outputs": [
    {
     "name": "stdout",
     "output_type": "stream",
     "text": [
      "Listo, nuestro contador vale 1227221\n"
     ]
    }
   ],
   "source": [
    "# Sin Locks\n",
    "import threading\n",
    "\n",
    "def sumador_con_seccion_critica(contador):\n",
    "    for _ in range(10 ** 6):\n",
    "        contador.valor += int(1)\n",
    "\n",
    "contador = Contador()\n",
    "\n",
    "t1 = threading.Thread(target=sumador_con_seccion_critica, args=(contador,))\n",
    "t2 = threading.Thread(target=sumador_con_seccion_critica, args=(contador,))\n",
    "\n",
    "t1.start()\n",
    "t2.start()\n",
    "t1.join()\n",
    "t2.join()\n",
    "\n",
    "print(\"Listo, nuestro contador vale\", contador.valor )"
   ]
  },
  {
   "cell_type": "code",
   "execution_count": 19,
   "id": "cc689cb3",
   "metadata": {},
   "outputs": [
    {
     "name": "stdout",
     "output_type": "stream",
     "text": [
      "Listo, nuestro contador vale 2000000\n"
     ]
    }
   ],
   "source": [
    "# Correcto manejo con Locks\n",
    "import threading\n",
    "\n",
    "\n",
    "candado = threading.Lock()\n",
    "\n",
    "def sumador_con_seccion_critica(contador, lock):\n",
    "    for _ in range(10 ** 6):\n",
    "        # Pedimos el lock antes de entrar a la sección crítica.\n",
    "        lock.acquire()\n",
    "        # --- Sección crítica ---. \n",
    "        # Está garantizado que en estas líneas sólo habrá un thread a la vez.\n",
    "        contador.valor += int(1)\n",
    "        # Liberamos el lock luego de salir de la sección crítica.\n",
    "        lock.release()\n",
    "\n",
    "contador = Contador()\n",
    "\n",
    "t1 = threading.Thread(target=sumador_con_seccion_critica, args=(contador, candado))\n",
    "t2 = threading.Thread(target=sumador_con_seccion_critica, args=(contador, candado))\n",
    "\n",
    "t1.start()\n",
    "t2.start()\n",
    "t1.join()\n",
    "t2.join()\n",
    "\n",
    "print(\"Listo, nuestro contador vale\", contador.valor )"
   ]
  },
  {
   "cell_type": "markdown",
   "id": "415113fe",
   "metadata": {},
   "source": [
    "Otra forma de hacerlo sin usar `release()` y `acquire()` es con el context manager `with` como muestra el ejemplo:"
   ]
  },
  {
   "cell_type": "code",
   "execution_count": 20,
   "id": "1d030820",
   "metadata": {},
   "outputs": [
    {
     "name": "stdout",
     "output_type": "stream",
     "text": [
      "Listo, nuestro contador vale 2000000\n"
     ]
    }
   ],
   "source": [
    "# Correcto manejo con with\n",
    "import threading\n",
    "\n",
    "\n",
    "candado = threading.Lock()\n",
    "\n",
    "def sumador_con_seccion_critica(contador, lock):\n",
    "    for _ in range(10 ** 6):\n",
    "        with lock:\n",
    "            # --- Sección crítica ---. \n",
    "            # Está garantizado que en estas líneas sólo habrá un thread a la vez.\n",
    "            contador.valor += int(1)\n",
    "            # --- Fin de la sección crítica ---.\n",
    "       \n",
    "\n",
    "contador = Contador()\n",
    "\n",
    "t1 = threading.Thread(target=sumador_con_seccion_critica, args=(contador, candado))\n",
    "t2 = threading.Thread(target=sumador_con_seccion_critica, args=(contador, candado))\n",
    "\n",
    "t1.start()\n",
    "t2.start()\n",
    "t1.join()\n",
    "t2.join()\n",
    "\n",
    "print(\"Listo, nuestro contador vale\", contador.valor )"
   ]
  },
  {
   "cell_type": "markdown",
   "id": "b21701c0",
   "metadata": {},
   "source": [
    "#### DeadLocks 💀🔒\n",
    "También llamado interbloqueo hace referencia al error en donde dos threads se esperan mutuamente, por lo que ninguno de los dos avanza. Al programar debes tener cuidado para que esto no pase: utilizar `with` puede minimizar la posibilidad de que esto suceda."
   ]
  },
  {
   "cell_type": "markdown",
   "id": "205397c9",
   "metadata": {},
   "source": [
    "### Eventos y señales 📡\n",
    "En ciertas ocasiones vamos a necesitar que un thread espere que ocurra un evento para continuar con sus operaciones. Para ello existen los objetos `Event()`, donde un thread emite una señal y otros esperan dicha señal. Métodos importantes:\n",
    "\n",
    "* Para esperar la señal en un Thread se utiliza el método `wait()`.\n",
    "* Para mandar la señal desde un Thread se utiliza el método `set()`.\n",
    "* Para saber si la señal ha sido dada se utiliza el método `is_set()`, el cual retorna un booleano.\n",
    "* Para resetear la señal (mandarla a `False`) se utiliza `clear()`.\n",
    "\n"
   ]
  },
  {
   "cell_type": "code",
   "execution_count": 7,
   "id": "ef5069f6",
   "metadata": {},
   "outputs": [
    {
     "name": "stdout",
     "output_type": "stream",
     "text": [
      "Cargando audio Chayanne - Torero  en t=0.000386\n",
      "Cargando video Chayanne - Torero  en t=0.000608\n",
      "¡Video cargado! en t=3.005654\n",
      "¡Audio cargado! en t=5.005555\n",
      "Reproduciendo audio en t=5.005828\n",
      "Reproduciendo video en t=5.006838\n"
     ]
    }
   ],
   "source": [
    "import threading\n",
    "import time\n",
    "\n",
    "\n",
    "# Tenemos dos eventos o señales.\n",
    "# Esta es para avisar que el video ya está listo para ser reproducido.\n",
    "video_cargado = threading.Event()\n",
    "# Esta es para avisar que el audio ya está listo para ser reproducido.\n",
    "audio_cargado = threading.Event()\n",
    "\n",
    "\n",
    "tiempo = time.time()\n",
    "def reproducir_video(nombre):\n",
    "    print(f\"Cargando video {nombre} en t={time.time() - tiempo:.6f}\")\n",
    "    # Supongamos que se demora 3 segundos\n",
    "    time.sleep(3)\n",
    "    print(f\"¡Video cargado! en t={time.time() - tiempo:.6f}\")\n",
    "    # Avisamos que el video ya está cargado\n",
    "    video_cargado.set()\n",
    "    # Esperamos a que el audio ya se haya cargado\n",
    "    audio_cargado.wait()\n",
    "    # ¡Listo!\n",
    "    print(f\"Reproduciendo video en t={time.time() - tiempo:.6f}\")\n",
    "    \n",
    "    \n",
    "def reproducir_audio(nombre):\n",
    "    print(f\"Cargando audio {nombre} en t={time.time() - tiempo:.6f}\")\n",
    "    # Supongamos que se demora 5 segundos\n",
    "    time.sleep(5)\n",
    "    print(f\"¡Audio cargado! en t={time.time() - tiempo:.6f}\")\n",
    "    # Avisamos que el audio ya está cargado\n",
    "    audio_cargado.set()\n",
    "    # Esperamos a que el video ya se haya cargado\n",
    "    video_cargado.wait()\n",
    "    # ¡Listo!\n",
    "    print(f\"Reproduciendo audio en t={time.time() - tiempo:.6f}\")\n",
    "    \n",
    "    \n",
    "t1 = threading.Thread(target=reproducir_audio, args=(\"Chayanne - Torero \",))\n",
    "t2 = threading.Thread(target=reproducir_video, args=(\"Chayanne - Torero \",))\n",
    "\n",
    "t1.start()\n",
    "t2.start()\n",
    "\n",
    "t1.join()"
   ]
  },
  {
   "cell_type": "markdown",
   "id": "21a09165",
   "metadata": {},
   "source": [
    "# Ejercicio Propuesto:  *La DCCrew*\n",
    "El conjunto de grafiteros autodenominados \"La DCCrew\" está de aniversario y para celebrar se ha impuesto una gira por la DCCiudad para lograr los 100 graffitis. Como buenos programadores utilizarán su conocimiento de Threads para simular este ambicioso proyecto artístico."
   ]
  },
  {
   "cell_type": "markdown",
   "id": "0c4f0de9",
   "metadata": {},
   "source": [
    "### (1) Modelando la crew y sus recursos:\n",
    "La clase `DCCrew` es donde se encontraran los recursos, metas y eventos que ayudaran a sincronizar a los distintos grafiteros. Para ello es necesario:\n",
    "\n",
    "1. Completar el inicializador con:\n",
    "    * un atributo `self.meta` que guarde el valor meta recibido (un int que representa los graffitis totales a realizar)\n",
    "    * un atributo privado llamado `actual` que inicia en 0 y llevará la cuenta de los graffitis realizados hasta ahora\n",
    "    * un atributo llamado `self.evento_terminar` el cual será un objeto `Event()` de la librería `threading`, con el cual se avisará a los artistas que ya se ha llegado a la meta\n",
    "    * un atributo llamado `self.lata_plateada` el cual será un objeto `Lock()` de la librería `threading`. Este representara una exclusiva lata de color plata cromada con el cual se realizarán graffitis especiales.\n",
    "    \n",
    "\n",
    "2. Un getter y setter que trabajen sobre el atributo privado `actual`. El setter ademas verifica que al llegar a la meta de graffitis, se les avisa mediante Eventos a los threads que deben terminar la ejecuación.\n",
    "\n",
    "\n",
    "3. Un método llamado `terminar` el cual básicamente activa el evento guardado en `self.evento_terminar`.\n",
    "\n",
    "\n"
   ]
  },
  {
   "cell_type": "code",
   "execution_count": 22,
   "id": "3ccd1877",
   "metadata": {},
   "outputs": [],
   "source": [
    "import threading\n",
    "from random import choice, randint\n",
    "from time import sleep"
   ]
  },
  {
   "cell_type": "code",
   "execution_count": 23,
   "id": "f157fff0",
   "metadata": {},
   "outputs": [],
   "source": [
    "class DCCrew:\n",
    "\n",
    "    def __init__(self, meta):\n",
    "        self.meta = meta\n",
    "        self.__actual = 0\n",
    "        self.evento_terminar = threading.Event()\n",
    "        self.lata_plateada = threading.Lock() \n",
    "\n",
    "    @property\n",
    "    def actual(self):\n",
    "        return self.__actual\n",
    "\n",
    "    @actual.setter\n",
    "    def actual(self, valor):\n",
    "        if valor > self.meta:\n",
    "            self.__actual = self.meta\n",
    "            self.terminar() # Se levanta la señal de fin\n",
    "        else:\n",
    "            self.__actual = valor\n",
    "\n",
    "    def terminar(self):\n",
    "        # Levanta la señal para avisar a los threads que deben terminar su ejecución\n",
    "        self.evento_terminar.set()"
   ]
  },
  {
   "cell_type": "markdown",
   "id": "1dd9b79b",
   "metadata": {},
   "source": [
    "### (2) Modelando los Graffiteros\n",
    "\n",
    "La Clase `Graffitero` heredará del objeto `Thread` del módulo `threading`. Representará los distintos grafiteros pertenecientes a la DCCrew, esta clase contiene los métodos:\n",
    "\n",
    "1. `__init__`: recibe el nombre del grafitero, el tiempo de descanso entre graffitis y la crew a la que pertenece (esto con el objetivo de que compartan recursos como los Eventos y el Lock). **Se debe llamar al inicializador de la super clase y darle** los kwargs `name=nombre` y `daemon=True`.\n",
    "\n",
    "\n",
    "2. `bomba`: representa un graffiti del nombre del artista, rápido y sin muchos detalles \n",
    "\n",
    "\n",
    "3. `mensaje`: corresponde a un mensaje dejado por el artista a la sociedad, los posibles mensajes se cargan con el metodo `leer_mensajes`.\n",
    "\n",
    "\n",
    "4. `graff`: en este método el artista escoge entre una bomba o un mensaje y lo graffitea.\n",
    "\n",
    "\n",
    "5. `especial`: **por completar** representa un graffiti mucho más sofisticado que los anteriores, se realizará cada vez que el artista haya llegado a 10 graffitis. Se obtiene el recurso `lata_plateada` de la `DCCrew` y bloquea el acceso a este, posteriormente se utiliza el método `sleep(10)` para luego imprimir el mensaje `print(f\"\\n{self.nombre} ESPECIAL CHROMADO!: DCCrew 100GRAFFS!!\\n\")`. Finalmente se desbloquea el acceso a la `lata_plateada`\n",
    "\n",
    "6. `imprimir`: Imprime el graffiti utilizando el lock de la clase, para que se impriman correctamente los mensajes.\n",
    "\n",
    "\n",
    "7. `run`: **Por completar** Tienes que sobreescribir el metodo de la clase `Thread`, el cual representara al Grafitero realizando su recorrido. Este es un loop que consiste en chequear que no se ha activado la señal de termino de la gira, mientras esto no suceda se debe:\n",
    "    * Aumentar el atributo `actual` de la `DCCrew` en uno.\n",
    "    * Aumentar el atributo `contador` del graffitero en uno.\n",
    "    * Verificar que el contador es un multiplo de 10 (se puede hacer con el operador resto `%`) Si esto es así se debe llamar al metodo `self.especial`, en caso contrarío se llama al metodo `self.graff``\n",
    "    * Por ultimo el Graffitero se pone a descansar con `sleep(self.descanso)``\n"
   ]
  },
  {
   "cell_type": "code",
   "execution_count": 24,
   "id": "906b94db",
   "metadata": {},
   "outputs": [],
   "source": [
    "class Graffitero(threading.Thread):\n",
    "    lock_imprimir = threading.Lock()\n",
    "\n",
    "    def __init__(self, nombre, descanso, crew):\n",
    "        super().__init__(name=nombre, daemon=True)\n",
    "        self.crew = crew\n",
    "        self.nombre = nombre\n",
    "        self.contador = 0\n",
    "        self.descanso = descanso\n",
    "        self.mensajes = []\n",
    "        self.leer_mensajes(\"mensajes.txt\")\n",
    "\n",
    "\n",
    "    def leer_mensajes(self, ruta):\n",
    "        with open(ruta, \"r\") as archivo:\n",
    "            lineas = archivo.readlines()\n",
    "            for linea in lineas:\n",
    "                self.mensajes.append(linea.rstrip(\"\\n\"))\n",
    "\n",
    "\n",
    "    def bomba(self):\n",
    "        self.imprimir(f\"{self.nombre} BOMBA!: ¡DCCrew!\")\n",
    "\n",
    "\n",
    "    def mensaje(self):\n",
    "        escogido = choice(self.mensajes)\n",
    "        self.imprimir(f\"{self.nombre} MENSAJE!: {escogido}\")\n",
    "\n",
    "\n",
    "    def graff(self):\n",
    "        escogido = choice([\"bomba\", \"mensaje\"])\n",
    "        if escogido == \"bomba\":\n",
    "            self.bomba()\n",
    "        elif escogido == \"mensaje\":\n",
    "            self.mensaje()\n",
    "\n",
    "\n",
    "    def especial(self):\n",
    "        with self.crew.lata_plateada:\n",
    "            sleep(randint(1,10))\n",
    "            self.imprimir(f\"\\n{self.nombre} ESPECIAL CHROMADO!: DCCrew {self.crew.meta}GRAFFS!!\\n\")\n",
    "\n",
    "\n",
    "    def imprimir(self, string):\n",
    "        # Asegura que solo un thread imprima en consola\n",
    "        with Graffitero.lock_imprimir:\n",
    "            print(string)\n",
    "            \n",
    "            \n",
    "    def run(self):\n",
    "        # Se verifica que la señal no ha sido levantada\n",
    "        while not self.crew.evento_terminar.is_set():\n",
    "            self.crew.actual += 1\n",
    "            self.contador += 1\n",
    "\n",
    "            if (self.contador % 10) == 0:\n",
    "                self.especial()\n",
    "            else:\n",
    "                self.graff()\n",
    "            # descansa\n",
    "            sleep(self.descanso)"
   ]
  },
  {
   "cell_type": "markdown",
   "id": "3a9ccd38",
   "metadata": {},
   "source": [
    "### (3) Modelando la gira\n",
    "La gira de graffitis se modelará con una función llamada `gira` la cual recibe un argumento denominado `crew` el cual es una instancia del la clase `DCCrew`"
   ]
  },
  {
   "cell_type": "code",
   "execution_count": 25,
   "id": "599fe55c",
   "metadata": {},
   "outputs": [],
   "source": [
    "def gira(crew):\n",
    "    print(f\"INICIANDO LA GIRA GRAFFITERA META: {crew.meta} graffs\\n\")\n",
    "\n",
    "    julio = Graffitero(\"BigJules\", 0.6, crew)\n",
    "    felipe = Graffitero(\"LilPeepe\", 0.8, crew)\n",
    "    diego = Graffitero(\"McToledo\", 0.7, crew)\n",
    "    ale = Graffitero(\"SupaMax\", 0.8, crew)\n",
    "    cleme = Graffitero(\"Demente\", 0.7, crew)\n",
    "\n",
    "    # iniciamos los thread\n",
    "    julio.start()\n",
    "    felipe.start()\n",
    "    diego.start()\n",
    "    ale.start()\n",
    "    cleme.start()\n",
    "\n",
    "    # esperamos a que termine\n",
    "    julio.join()\n",
    "    felipe.join()\n",
    "    diego.join()\n",
    "    ale.join()\n",
    "    cleme.join()\n",
    "\n",
    "    print(f\"\\n\\n !!! META LOGRADA {crew.meta} GRAFFITIS HECHOS !!!\\n\")\n",
    "    print(f\"\\n\\n !!! LARGA VIDA A LA DCCREW !!!\\n\")"
   ]
  },
  {
   "cell_type": "markdown",
   "id": "4167d3eb",
   "metadata": {},
   "source": [
    "### (4) Realizando la gira!\n",
    "Finalmente se pasa del mensaje a la acción y se comienza la gira de graffitis. Debes crear una instancia de `DCCrew` y darle una meta razonable (sugerimos 50). Posteriormente debes crear un `Thread` para darle como target la función `gira` y como argumento la crew creada. Finalmente debes inciar el Thread!\n"
   ]
  },
  {
   "cell_type": "code",
   "execution_count": 26,
   "id": "a88fc0c3",
   "metadata": {},
   "outputs": [
    {
     "name": "stdout",
     "output_type": "stream",
     "text": [
      "INICIANDO LA GIRA GRAFFITERA META: 100 graffs\n",
      "\n",
      "BigJules MENSAJE!: NO PUEDEN CONTRA LA DCCrew!\n"
     ]
    },
    {
     "name": "stdout",
     "output_type": "stream",
     "text": [
      "Lilpeepe MENSAJE!: Contra toda autoridad! Excepto mi mama\n",
      "McDiego MENSAJE!: Yadran estuvo aqui\n",
      "Ale BOMBA!: ¡DCCrew!\n",
      "Demente MENSAJE!: NO PUEDEN CONTRA LA DCCrew!\n",
      "BigJules MENSAJE!: Contra toda autoridad! Excepto mi mama\n",
      "McDiego BOMBA!: ¡DCCrew!\n",
      "Demente MENSAJE!: CADA ERROR ME HACE MAS FUERTE!!\n",
      "Lilpeepe MENSAJE!: CADA ERROR ME HACE MAS FUERTE!!\n",
      "Ale BOMBA!: ¡DCCrew!\n",
      "BigJules MENSAJE!: CADA ERROR ME HACE MAS FUERTE!!\n",
      "Demente BOMBA!: ¡DCCrew!\n",
      "McDiego MENSAJE!: Yadran estuvo aqui\n",
      "Ale BOMBA!: ¡DCCrew!\n",
      "Lilpeepe BOMBA!: ¡DCCrew!\n",
      "BigJules BOMBA!: ¡DCCrew!\n",
      "Demente MENSAJE!: CADA ERROR ME HACE MAS FUERTE!!\n",
      "McDiego MENSAJE!: CADA ERROR ME HACE MAS FUERTE!!\n",
      "Lilpeepe MENSAJE!: NO PUEDEN CONTRA LA DCCrew!\n",
      "Ale MENSAJE!: DCCode more and better\n",
      "BigJules MENSAJE!: Yadran estuvo aqui\n",
      "Demente BOMBA!: ¡DCCrew!\n",
      "McDiego MENSAJE!: CADA ERROR ME HACE MAS FUERTE!!\n",
      "BigJules MENSAJE!: Emosido Engañado\n",
      "Lilpeepe BOMBA!: ¡DCCrew!\n",
      "Ale MENSAJE!: CADA ERROR ME HACE MAS FUERTE!!\n",
      "McDiego MENSAJE!: CADA ERROR ME HACE MAS FUERTE!!\n",
      "Demente BOMBA!: ¡DCCrew!\n",
      "BigJules BOMBA!: ¡DCCrew!\n",
      "Ale BOMBA!: ¡DCCrew!\n",
      "Lilpeepe BOMBA!: ¡DCCrew!\n",
      "Demente BOMBA!: ¡DCCrew!\n",
      "McDiego MENSAJE!: Yadran estuvo aqui\n",
      "BigJules MENSAJE!: Yadran estuvo aqui\n",
      "Ale BOMBA!: ¡DCCrew!\n",
      "Lilpeepe BOMBA!: ¡DCCrew!\n",
      "BigJules BOMBA!: ¡DCCrew!\n",
      "McDiego MENSAJE!: Contra toda autoridad! Excepto mi mama\n",
      "Demente BOMBA!: ¡DCCrew!\n",
      "Ale BOMBA!: ¡DCCrew!\n",
      "Lilpeepe MENSAJE!: Code py every day\n",
      "Demente BOMBA!: ¡DCCrew!\n",
      "McDiego BOMBA!: ¡DCCrew!\n",
      "Lilpeepe MENSAJE!: Contra toda autoridad! Excepto mi mama\n",
      "Ale MENSAJE!: Code! Harder! Better! Faster! STRONGER!\n",
      "\n",
      "BigJules ESPECIAL CHROMADO!: DCCrew 100GRAFFS!!\n",
      "\n",
      "BigJules MENSAJE!: Code py every day\n",
      "BigJules BOMBA!: ¡DCCrew!\n",
      "BigJules BOMBA!: ¡DCCrew!\n",
      "BigJules BOMBA!: ¡DCCrew!\n",
      "BigJules MENSAJE!: CADA ERROR ME HACE MAS FUERTE!!\n",
      "BigJules BOMBA!: ¡DCCrew!\n",
      "BigJules MENSAJE!: DCCode more and better\n",
      "BigJules MENSAJE!: Code py every day\n",
      "BigJules BOMBA!: ¡DCCrew!\n",
      "\n",
      "Demente ESPECIAL CHROMADO!: DCCrew 100GRAFFS!!\n",
      "\n",
      "Demente MENSAJE!: Contra toda autoridad! Excepto mi mama\n",
      "Demente BOMBA!: ¡DCCrew!\n",
      "Demente MENSAJE!: Yadran estuvo aqui\n",
      "Demente MENSAJE!: Yadran estuvo aqui\n",
      "\n",
      "McDiego ESPECIAL CHROMADO!: DCCrew 100GRAFFS!!\n",
      "\n",
      "Demente MENSAJE!: CADA ERROR ME HACE MAS FUERTE!!\n",
      "McDiego MENSAJE!: DCCode more and better\n",
      "\n",
      "\n",
      " META LOGRADA 100 GRAFFITIS HECHOS!!!\n",
      "\n"
     ]
    }
   ],
   "source": [
    "# Para mejor visualización ejecutar en dccrew.py\n",
    "\n",
    "crew = DCCrew(100)\n",
    "principal = threading.Thread(target=gira, args=(crew,))\n",
    "principal.start()"
   ]
  }
 ],
 "metadata": {
  "kernelspec": {
   "display_name": "Python 3 (ipykernel)",
   "language": "python",
   "name": "python3"
  },
  "language_info": {
   "codemirror_mode": {
    "name": "ipython",
    "version": 3
   },
   "file_extension": ".py",
   "mimetype": "text/x-python",
   "name": "python",
   "nbconvert_exporter": "python",
   "pygments_lexer": "ipython3",
   "version": "3.11.7"
  }
 },
 "nbformat": 4,
 "nbformat_minor": 5
}

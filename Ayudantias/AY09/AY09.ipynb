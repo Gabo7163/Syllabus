{
 "cells": [
  {
   "cell_type": "markdown",
   "metadata": {},
   "source": [
    "# Ayudantía 09: Networking y webservices \n",
    "\n",
    "Ayudantes:\n",
    "\n",
    "- Julio Huerta\n",
    "- Felipe Vidal\n",
    "- Diego Toledo\n",
    "- Alejandro Held\n",
    "- Clemente Campos"
   ]
  },
  {
   "cell_type": "markdown",
   "metadata": {},
   "source": [
    "# Introducción\n",
    "Como ya pudimos ver la semana pasada, la información en el computador es guardada en bytes. Esta forma de presentar la información es la más básica para los computadores y por tanto será la que ocuparemos para comunicarlos. En esta ayudantía repasaremos el concepto de neetworking, que es un concepto muy poderoso dentro de la computación que nos permite generar comunicación entre 2 o más computadores diferentes."
   ]
  },
  {
   "cell_type": "markdown",
   "metadata": {},
   "source": [
    "# Pequeño recordatorio\n",
    "\n",
    "La semana pasada se abordaron algunos conceptos importantes para esta semana, los cuales se repasarán rapidamente\n",
    "\n",
    "### IP\n",
    "La ip es un número que identifica únicamente a un computador, es necesaria para poder entablar una conexión con otra máquina.\n",
    "\n",
    "### Puerto\n",
    "Dentro de un mismo computador existen miles de puertos. Cada puerto puede ser pedido por una aplicación distinta del computador, de esta forma puedo entablar comunicación precisamente con la aplicación que deseo."
   ]
  },
  {
   "cell_type": "markdown",
   "metadata": {},
   "source": [
    "# Envio de información\n",
    "\n",
    "Empecemos con un ejemplo, digamos que quiero enviar un texto desde mi computador al computador de un amigo utilizando python ¿Como lo puedo hacer? Una forma es crear un **Servidor** el cual contenga el texto que quiero enviar y se enceuntre a la espera de la llegada de un cliente. Al momento de llegar el cliente deberá **Serializar** el texto que quiere enviar a **bytes** y luego enviarlo.\n",
    "\n",
    "Es importante que al momento de conectar un cliente con un servidor, ambos programas estén de acuerdo en que método se utilizará para serializar la información. A continuación se verán 2 formas de serializar en python.\n",
    "\n",
    "## Envio utilizando JSON\n",
    "\n",
    "La semana anterior vimos que se puede serializar utilizando el formato JSON, el cual transforma la información a un string que después puede ser serializado utilizando bytes. Luego se podría enviar información de la siguiente forma."
   ]
  },
  {
   "cell_type": "code",
   "execution_count": 1,
   "metadata": {},
   "outputs": [
    {
     "name": "stdout",
     "output_type": "stream",
     "text": [
      "<class 'str'>\n"
     ]
    },
    {
     "ename": "ConnectionRefusedError",
     "evalue": "[Errno 61] Connection refused",
     "output_type": "error",
     "traceback": [
      "\u001b[0;31m---------------------------------------------------------------------------\u001b[0m",
      "\u001b[0;31mConnectionRefusedError\u001b[0m                    Traceback (most recent call last)",
      "Cell \u001b[0;32mIn[1], line 23\u001b[0m\n\u001b[1;32m     21\u001b[0m \u001b[38;5;66;03m#Utilizamos un socket para enviar la información\u001b[39;00m\n\u001b[1;32m     22\u001b[0m sock \u001b[38;5;241m=\u001b[39m socket\u001b[38;5;241m.\u001b[39msocket(socket\u001b[38;5;241m.\u001b[39mAF_INET, socket\u001b[38;5;241m.\u001b[39mSOCK_STREAM)\n\u001b[0;32m---> 23\u001b[0m \u001b[43msock\u001b[49m\u001b[38;5;241;43m.\u001b[39;49m\u001b[43mconnect\u001b[49m\u001b[43m(\u001b[49m\u001b[43m(\u001b[49m\u001b[43mserver_host\u001b[49m\u001b[43m,\u001b[49m\u001b[43m \u001b[49m\u001b[43mserver_port\u001b[49m\u001b[43m)\u001b[49m\u001b[43m)\u001b[49m\n\u001b[1;32m     25\u001b[0m \u001b[38;5;66;03m#Paso 3) Enviamos el mensaje \u001b[39;00m\n\u001b[1;32m     26\u001b[0m sock\u001b[38;5;241m.\u001b[39msendall(mensaje)\n",
      "\u001b[0;31mConnectionRefusedError\u001b[0m: [Errno 61] Connection refused"
     ]
    }
   ],
   "source": [
    "import json\n",
    "import socket\n",
    "\n",
    "server_host = \"127.0.0.1\"    # Elegimos la ip del servidor destino\n",
    "server_port = 12345\n",
    "\n",
    "\n",
    "#Creamos el mensaje que queremos enviar\n",
    "mensaje = {\"titulo\": \"Don Quijote de la mancha\", \"año\": 1605, \"Texto\": \"En un lugar de la Mancha, de cuyo nombre no quiero acordarme...\"}\n",
    "\n",
    "\n",
    "# Paso 1) Pasamos el tipo de dato a un string\n",
    "# Diccionario ---> string\n",
    "mensaje = json.dumps(mensaje)\n",
    "print(type(mensaje))\n",
    "\n",
    "#Paso 2) Pasamos de un string a bytes eligiendo un encode.\n",
    "# string ---> bytes\n",
    "mensaje = mensaje.encode(\"utf-8\")\n",
    "\n",
    "#Utilizamos un socket para enviar la información\n",
    "sock = socket.socket(socket.AF_INET, socket.SOCK_STREAM)\n",
    "sock.connect((server_host, server_port))\n",
    "\n",
    "#Paso 3) Enviamos el mensaje \n",
    "sock.sendall(mensaje)\n",
    "\n",
    "#¿Como veo la información de la respuesta?\n",
    "#Debido a que esperamos que lleguen bytes que representan un string en UTF-8 y que el string es un JSON podemos invertir el proceso\n",
    "\n",
    "data = json.loads(sock.recv(4096).decode('utf-8'))\n",
    "print(\"Respuesta servidor:\" + str(data))\n",
    "sock.close()"
   ]
  },
  {
   "cell_type": "markdown",
   "metadata": {},
   "source": [
    "## Envio utilizando Pickle\n",
    "\n",
    "Otra forma de serializar objetos de Python es **pickle** el cual es solo des-serializable por **otro programa de Python**. A continuación se repetirá el proceso anterior utilizando esta nueva forma de serializar"
   ]
  },
  {
   "cell_type": "code",
   "execution_count": 3,
   "metadata": {},
   "outputs": [
    {
     "name": "stdout",
     "output_type": "stream",
     "text": [
      "Respuesta servidor:{'titulo': 'Don Quijote de la mancha', 'año': 1605, 'Texto': 'En un lugar de la Mancha, de cuyo nombre no quiero acordarme...'}\n"
     ]
    }
   ],
   "source": [
    "import pickle\n",
    "import socket\n",
    "\n",
    "server_host = \"127.0.0.1\"    # Elegimos la ip del servidor destino\n",
    "server_port = 12345\n",
    "\n",
    "\n",
    "#Creamos el mensaje que queremos enviar\n",
    "mensaje = {\"titulo\": \"Don Quijote de la mancha\", \"año\": 1605, \"Texto\": \"En un lugar de la Mancha, de cuyo nombre no quiero acordarme...\"}\n",
    "\n",
    "\n",
    "# Paso 1) Pasamos el tipo de dato a bytes directamente  ^^\n",
    "# Diccionario ---> bytes \n",
    "mensaje = pickle.dumps(mensaje)\n",
    "\n",
    "#Utilizamos un socket para enviar la información\n",
    "sock = socket.socket(socket.AF_INET, socket.SOCK_STREAM)\n",
    "sock.connect((server_host, server_port))\n",
    "\n",
    "#Paso 2) Enviamos el mensaje \n",
    "sock.sendall(mensaje)\n",
    "\n",
    "#¿Como veo la información de la respuesta?\n",
    "#Debido a que esperamos que lleguen bytes que representan una serialización en Pickle, podemos devolver el proceso.\n",
    "data = pickle.loads(sock.recv(10**5)) \n",
    "print(\"Respuesta servidor\" + str(data))\n",
    "sock.close()"
   ]
  },
  {
   "cell_type": "markdown",
   "metadata": {},
   "source": [
    "## Uso de chunck\n",
    "En los ejemplos anteriores, al momento de recibir la respuesta se espera que el largo de la respuesta **sea menor a 4096** bytes. Pero el Quijote tiene un total de 381.104 palabras, por lo que no se podría leer el mensaje completo. Podriamos simplemente aceptar más bytes pero\n",
    "* En caso de enviar mensajes con aún más bytes seguiría sin funcionar el código\n",
    "* Tendría que procesar toda la información de golpe, cargando todo el Quijote en memoria RAM lo cual para archivos aún más grandes es una mala idea.\n",
    "\n",
    "Una forma de aliviar esta carga sería dividir el mensaje en partes pequeñas. Cada una con un tamaño manejable para nuestro computador y que nos permita leer indefinidamente hasta que el mensaje acabe. Esta idea es un **Chunk**: dividir grandes cantidades de bytes trozos para enviar o recibir por partes.\n",
    "\n",
    "Repitamos el proceso anteior con nuestra nueva herramienta."
   ]
  },
  {
   "cell_type": "code",
   "execution_count": null,
   "metadata": {},
   "outputs": [],
   "source": [
    "import pickle\n",
    "import socket\n",
    "\n",
    "server_host = \"127.0.0.1\"    # Elegimos la ip del servidor destino, en este caso es la nuetra\n",
    "server_port = 12345\n",
    "\n",
    "\n",
    "#Creamos el mensaje que queremos enviar\n",
    "mensaje = {\"titulo\": \"Don Quijote de la mancha\", \"año\": 1605, \"Texto\": \"En un lugar de la Mancha, de cuyo nombre no quiero acordarme...\"}\n",
    "\n",
    "\n",
    "# Paso 1) Pasamos el tipo de dato a bytes directamente  ^^\n",
    "# Diccionario ---> bytes \n",
    "mensaje = pickle.dumps(mensaje)\n",
    "\n",
    "#Utilizamos un socket para enviar la información\n",
    "sock = socket.socket(socket.AF_INET, socket.SOCK_STREAM)\n",
    "sock.connect((server_host, server_port))\n",
    "\n",
    "#Paso 2) Enviamos el mensaje POR PARTES\n",
    "inicio = 0\n",
    "while inicio < len(mensaje):\n",
    "    if inicio + 4096 < len(mensaje):\n",
    "        chunck = mensaje[inicio: inicio + 4096]\n",
    "    else:\n",
    "        chunck = mensaje[inicio:]\n",
    "    \n",
    "    sock.sendall(chunck)\n",
    "\n",
    "#¿Como veo la información de la respuesta?\n",
    "#Debido a que esperamos que lleguen bytes por partes, recibimos todo y después unimos\n",
    "respuesta = b\"\"\n",
    "while True:\n",
    "    data = sock.recv(4096)  # Recibe un máximo de 4096 bytes\n",
    "    if not data:\n",
    "        break  # Sale del bucle si no hay más datos\n",
    "    respuesta += data\n",
    "\n",
    "diccionario = pickle.loads(respuesta)\n",
    "print(\"Respuesta servidor:\" + str(diccionario))\n",
    "print(diccionario)"
   ]
  },
  {
   "cell_type": "markdown",
   "metadata": {},
   "source": [
    "# Ejercicio Propuesto\n",
    "Para mostrar el funcionanto de Networking avanzado, haremos una simulación de lo que sucede en una ayudantía, la cual consistirá de diversas partes:\n",
    "\n",
    "1. `Estudiante`: Representa a un estudiante que hace preguntas en la ayudantía. Estas pueden ser de contenidos, de tarea o más dificiles. Se implementará con un cliente que busca conectarse a un servidor para poder realizar las preguntas\n",
    "\n",
    "2. `Docencio`: Representa a un ayudante de docencia al que le llegan las preguntas de los alumnos en las ayudantías. El solo puede responder preguntas de contenido, las preguntas dificles y las de tarea se las delega a un ayudante Tareo. El `Docencio` Representara una clase que puede actuar tanto como de Cliente como de Servidor (P2P)\n",
    "\n",
    "3. `Tareo`: Representa a un ayudante de tareas el cual responde aquellas preguntas sobre tareas, en caso de ser una pregunta dificil, se la hará llegar al profesor antes de dar una respuesta. Es implementado como un servidor que puede aceptar conexiones desde multiples clientes \n",
    "\n",
    "4. `Profesor`: Representa al profesor del ramo que contesta aquellas preguntas muy dificiles para los ayudantes de Tarea, ademas lleva el conteo de cuantas preguntas en total han sido contestadas. Será implementado como un servidor de Flask\n",
    "\n",
    "Por lo tanto el flujo de preguntas y respuestas es de la siguiente forma: (Actualizar con un dibujo bonito)\n",
    "\n",
    "![diagrama](diagrama.png)"
   ]
  },
  {
   "cell_type": "markdown",
   "metadata": {},
   "source": [
    "# Cliente\n",
    "Ahora formalicemos la idea de un cliente. Un cliente realiza conexiones a un servidor, este cliente realiza solicitudes a un servidor y busca **consumir sus servicios**. Por ejemplo al realizar una busqueda en Google, mi celular se comporta como cliente del servidor de Google porque busca consumir los servicios de Google.\n",
    "\n",
    "A continuación se presenta un ejemplo básico de un cliente, posteriormente vamos a continuar complejizando este concepto. Notar que nuestro cliente quiere enviar mensajes a un servidor y además recibir respuestas. Luego, como cada una de estas acciones sucede en paralelo. A escuchar y a enviar mensajes les asignamos un **thread** distinto."
   ]
  },
  {
   "cell_type": "code",
   "execution_count": null,
   "metadata": {},
   "outputs": [],
   "source": [
    "from random import choice, random\n",
    "from time import sleep\n",
    "import threading\n",
    "\n",
    "class Estudiante:\n",
    "    def __init__(self, port: int, host: str) -> None:\n",
    "        # Inicializa el cliente, establece la conexión al servidor y crea un hilo para hacer preguntas\n",
    "        print(\"Inicializando cliente...\")\n",
    "        self.host = host\n",
    "        self.port = port\n",
    "        self.socket_client = socket.socket(socket.AF_INET, socket.SOCK_STREAM)\n",
    "\n",
    "        try:\n",
    "            self.connect_to_server()\n",
    "            self.listen()\n",
    "            self.thread_preguntas = threading.Thread(target=self.consultar)\n",
    "            self.thread_preguntas.start()  # Inicia las preguntas\n",
    "            \n",
    "        except ConnectionError:\n",
    "            print(\"Conexión terminada.\")\n",
    "            self.socket_client.close()\n",
    "            exit()\n",
    "\n",
    "    def connect_to_server(self) -> None:\n",
    "        # conecta el cliente al servidor\n",
    "        self.socket_client.connect((self.host, self.port))\n",
    "        print(\"Cliente conectado exitosamente al servidor.\")\n",
    "\n",
    "\n",
    "    def listen(self) -> None:\n",
    "        # crea e inicializa un thread para comunicarse con el cliente\n",
    "        thread = threading.Thread(target=self.listen_thread)\n",
    "        thread.start()\n",
    "\n",
    "\n",
    "    def send(self, msg: str) -> None:\n",
    "        # codifica un str en bytes y lo envia al servidor\n",
    "        msg_bytes = msg.encode()\n",
    "        msg_length = len(msg_bytes).to_bytes(4, byteorder='big')\n",
    "        self.socket_client.sendall(msg_length + msg_bytes)\n",
    "\n",
    "\n",
    "    def listen_thread(self) -> None:\n",
    "        # Thread que recibe respuestas del servidor\n",
    "        while True:\n",
    "            response_bytes_length = self.socket_client.recv(4)\n",
    "            response_length = int.from_bytes(response_bytes_length, byteorder='big')\n",
    "            response = bytearray()\n",
    "\n",
    "            while len(response) < response_length:\n",
    "                read_length = min(4096, response_length - len(response))\n",
    "                response.extend(self.socket_client.recv(read_length))\n",
    "\n",
    "            print(f\"Respuesta recibida: {response.decode()}\\n>>> \", end='')\n",
    "\n",
    "\n",
    "    def consultar(self):\n",
    "        while True:\n",
    "            duda = choice([\"Contenido\", \"Tarea\", \"Pregunta Dificil\"])\n",
    "            print(f\"Alumno pregunta: {duda}\")  # Imprimir tipo de pregunta\n",
    "            self.send(duda)\n",
    "            sleep(random() * 5 + 1)  # Espera entre 1 y 6 segundos"
   ]
  },
  {
   "cell_type": "markdown",
   "metadata": {},
   "source": [
    "# Servidor Multicliente\n",
    "\n",
    "Luego digamos que quiero hacer un servidor. Como se podrán imaginar un servidor como los de google reciben cientos de clientes por segundo, pero en los ejemplos de servidor vistos hasta ahora **el flujo del programa se detiene al hacer listen()**. Esto lleva a que solamente podamos estar trabajando con un cliente a la vez.\n",
    "\n",
    "Entonces tenemos que poder recibir varios clientes, **comunicarnos con cada uno en paralelo** y de alguna manera ir **guardando el socket de cada cliente**. talvez suena a que podriamos ocupar... **THREADS**\n",
    "\n",
    "**Solución**: Tendremos un Thread que solo se encarga de recibir clientes, al llegar un cliente creamos un nuevo thread que **solo se encarga de comunicarse con un alumno**\n",
    "\n",
    "Así siempre pueden llegar nuevos clientes al servidor, además nuestro servidor siempre estará respondiendo a cada cliente. Perfecto\n",
    "\n"
   ]
  },
  {
   "cell_type": "code",
   "execution_count": null,
   "metadata": {},
   "outputs": [],
   "source": [
    "import requests\n",
    "\n",
    "class Tareo:\n",
    "    def __init__(self, port: int, host: str) -> None:\n",
    "        # inicializa el servidor y comienza a escuchar conexiones de clientes\n",
    "        print(\"Inicializando servidor...\")\n",
    "        self.host = host\n",
    "        self.port = port\n",
    "        self.respuestas = [\" No puedes usar esa libreria\",\n",
    "                            \" No es un problema de los tests\",\n",
    "                            \" Actualizamos los tests\",\n",
    "                            \" Puedes usar esa librería :D\"]\n",
    "        \n",
    "        self.socket_server = socket.socket(socket.AF_INET, socket.SOCK_STREAM)\n",
    "        self.bind_and_listen()\n",
    "        self.accept_connections()\n",
    "\n",
    "\n",
    "    def bind_and_listen(self) -> None:\n",
    "        # Enlaza el servidor al puerto especificado\n",
    "        self.socket_server.bind((self.host, self.port))\n",
    "        self.socket_server.listen()\n",
    "        print(f\"Servidor escuchando en {self.host}:{self.port}...\")\n",
    "\n",
    "\n",
    "    def accept_connections(self) -> None:\n",
    "        # inicializa un thread para escuchar conexiones entrantes y aceptarlas\n",
    "        thread = threading.Thread(target=self.accept_connections_thread)\n",
    "        thread.start()\n",
    "\n",
    "\n",
    "    def accept_connections_thread(self) -> None:\n",
    "        # Función target que permitirá aceptar conexiones\n",
    "        # crea un thread por cada cliente aceptado para poder escucharlo\n",
    "        print(\"Servidor aceptando conexiones...\")\n",
    "        while True:\n",
    "            client_socket, ip = self.socket_server.accept()\n",
    "            listening_client_thread = threading.Thread(\n",
    "                target=self.listen_client_thread,\n",
    "                args=(client_socket, ))\n",
    "            listening_client_thread.start()\n",
    "\n",
    "\n",
    "    def send(self, value: any, sock: socket.socket) -> None:\n",
    "        # Envía respuestas al cliente\n",
    "        stringified_value = str(value)\n",
    "        msg_bytes = stringified_value.encode()\n",
    "        msg_length = len(msg_bytes).to_bytes(4, byteorder='big')\n",
    "        sock.sendall(msg_length + msg_bytes)\n",
    "\n",
    "\n",
    "    def listen_client_thread(self, client_socket: socket.socket) -> None:\n",
    "        # Recibe preguntas desde el cliente, las procesa y las responde\n",
    "        print(\"Servidor conectado a un nuevo cliente...\")\n",
    "        while True:\n",
    "            # Recibe los bytes\n",
    "            response_bytes_length = client_socket.recv(4)\n",
    "            response_length = int.from_bytes(\n",
    "                response_bytes_length, byteorder='big')\n",
    "            response_length = int.from_bytes(response_bytes_length, byteorder='big')\n",
    "            pregunta = client_socket.recv(response_length).decode()\n",
    "\n",
    "\n",
    "            print(f\"Recibimos una pregunta: {pregunta}\")\n",
    "            if pregunta == \"Tarea\":\n",
    "                respuesta = choice(self.respuestas)\n",
    "                self.send(respuesta, client_socket)\n",
    "                print(\"Pregunta respondida al estudiante\")\n",
    "            \n",
    "\n",
    "            elif pregunta == \"Pregunta Dificil\":\n",
    "                # Pedir respuesta al profesor\n",
    "                URL = \"http://localhost:4444/respuesta\"\n",
    "                respuesta = requests.get(URL)\n",
    "                status = respuesta.status_code\n",
    "                print(f\"CONSULTA AL PROFESOR: {status}\")\n",
    "                print(respuesta.json())\n",
    "                self.send(respuesta.json()[\"texto\"], client_socket)"
   ]
  },
  {
   "cell_type": "markdown",
   "metadata": {},
   "source": [
    "# P2P\n",
    "\n",
    "Veamos un caso más complejo. Digamos que yo tengo un servidor el cual espera la llegada de multiples clientes para poder entregar una respuesta. Pero a la vez, este servidor puede no ser capaz de resolver todas las solicitudes por si solo. Talvez, este servidor necesita **realizar consultas a otro servidor**. Luego el servidor a la vez debe ser un **Cliente**.\n",
    "\n",
    "A estas situaciones donde se es cliente y servidor a la vez, se le conoce como P2P y llevan a pensar en arquitecturas **descentralizadas**. Si todos los miembros se comportan como servidor y cliente, entonces no existe un servidor central que dirija la red. Ejemplo de esto son redes para minar criptomonedas donde todos los miembros de la red son igual de importantes. Otro ejemplo son algunas aplicaciones de transferencia de archivos (*presuntamente piratas*) en que cada miembro tiene archivos descargados y en caso de que otro usuario lo necesite, puede solicitar el archivo al computador de otro miembro.\n",
    "\n",
    "A continuación veremos un ejemplo de código. **No te asustes**, es un código extenso pero esto se debe a que tiene los métodos de un **servidor** y un **cliente**, no es excesivamente diferente a ninguno."
   ]
  },
  {
   "cell_type": "code",
   "execution_count": null,
   "metadata": {},
   "outputs": [],
   "source": [
    "import socket\n",
    "import threading\n",
    "import requests\n",
    "\n",
    "class Docencia:\n",
    "    # Inicia el cliente y el servidor\n",
    "    def __init__(self, host: str, port: int, datos_otro_cliente: dict) -> None:\n",
    "        print(\"Inicializando cliente P2P (2)...\")\n",
    "        self.host = host\n",
    "        self.port = port\n",
    "        self.datos_otro_cliente = datos_otro_cliente\n",
    "\n",
    "        # Al ser P2P necesitamos un socket para ser cliente y un socket para ser servidor\n",
    "        self.sockets = {\n",
    "            'server': socket.socket(socket.AF_INET, socket.SOCK_STREAM),\n",
    "            'client': socket.socket(socket.AF_INET, socket.SOCK_STREAM)\n",
    "        }\n",
    "        self.bind_and_listen()\n",
    "        self.accept_connections()\n",
    "\n",
    "        try:\n",
    "            self.connect_to_server()\n",
    "        except ConnectionError:\n",
    "            print(\"Conexión terminada.\")\n",
    "            self.sockets['client'].close()\n",
    "            exit()\n",
    "\n",
    "\n",
    "    def bind_and_listen(self) -> None:\n",
    "        # enlaza y habilita el servidor para comenzar a escuchar conexiones entrantes\n",
    "        self.sockets['server'].bind((self.host, self.port))\n",
    "        self.sockets['server'].listen()\n",
    "        print(f\"Cliente P2P (2) escuchando en {self.host}:{self.port}...\")\n",
    "\n",
    "\n",
    "    def accept_connections(self) -> None:\n",
    "        # Inicializa un thread que se encargara de aceptar conexiones entrantes\n",
    "        thread = threading.Thread(target=self.accept_connections_thread)\n",
    "        thread.start()\n",
    "\n",
    "    def accept_connections_thread(self) -> None:\n",
    "        # funcion target que acepta conexiones entrantes y les da un thread para poder escucharlos\n",
    "        while True:\n",
    "            client_socket, _ = self.sockets['server'].accept()\n",
    "            threading.Thread(\n",
    "                target=self.listen_client_thread,\n",
    "                args=(client_socket,),\n",
    "                daemon=True\n",
    "            ).start()\n",
    "\n",
    "\n",
    "    def listen_client_thread(self, client_socket: socket.socket) -> None:\n",
    "        # funcion target que recibe el contenido del cliente y lo procesa para darle una respuesta\n",
    "        while True:\n",
    "            try:\n",
    "                response_bytes_length = client_socket.recv(4)\n",
    "                response_length = int.from_bytes(response_bytes_length, byteorder='big')\n",
    "                pregunta = client_socket.recv(response_length).decode()\n",
    "\n",
    "                print(f\"Recibimos una pregunta: {pregunta}\")\n",
    "\n",
    "                if pregunta == \"Contenido\":\n",
    "                    self.answer_client(\"Docencio: respondiendo pregunta de contenido\", client_socket)\n",
    "                else:\n",
    "                    threading.Thread(\n",
    "                        target=self.procesar_pregunta_tareo,\n",
    "                        args=(pregunta, client_socket),\n",
    "                        daemon=True\n",
    "                    ).start()\n",
    "\n",
    "            except ConnectionResetError:\n",
    "                print(\"Conexión con el cliente cerrada.\")\n",
    "                break\n",
    "\n",
    "    def procesar_pregunta_tareo(self, pregunta: str, client_socket: socket.socket) -> None:\n",
    "        # Consulta a Tareo y responde al cliente con la respuesta obtenida\n",
    "        respuesta = self.consultar_a_tareo(pregunta)\n",
    "        self.answer_client(f\"Respuesta del Tareo o Profesor: {respuesta}\", client_socket)\n",
    "        self.notificar_profesor()\n",
    "\n",
    "\n",
    "    def answer_client(self, value: str, sock: socket.socket) -> None:\n",
    "        # envia respuesta al cliente correspondiente\n",
    "        msg_bytes = value.encode()\n",
    "        sock.sendall(len(msg_bytes).to_bytes(4, byteorder='big') + msg_bytes)\n",
    "\n",
    "\n",
    "    # Metodos del cliente\n",
    "    def connect_to_server(self) -> None:\n",
    "        # Conecta el Docencio (como cliente) al Tareo (el servidor)\n",
    "        self.sockets['client'].connect(\n",
    "            (self.datos_otro_cliente['host'], self.datos_otro_cliente['port'])\n",
    "        )\n",
    "        print(\"Cliente conectado exitosamente al otro cliente.\")\n",
    "\n",
    "\n",
    "    def consultar_a_tareo(self, pregunta: str) -> str:\n",
    "        # Envia preguntas a tareo y espera la respuesta\n",
    "        self.send(pregunta)\n",
    "        response = self.sockets['client'].recv(4096).decode()\n",
    "        return response\n",
    "\n",
    "    def send(self, msg: str) -> None:\n",
    "        # manda mensaje al Tareo (Servidor)\n",
    "        msg_bytes = msg.encode()\n",
    "        self.sockets['client'].sendall(len(msg_bytes).to_bytes(4, byteorder='big') + msg_bytes)\n",
    "\n",
    "\n",
    "    def notificar_profesor(self) -> None:\n",
    "        # Le indica al profesor (Server Flask) que ya contesto una pregunta correctamente\n",
    "        try:\n",
    "            response = requests.post(\"http://localhost:4444/preguntas\")\n",
    "            if response.status_code == 200:\n",
    "                print(f\"Contador de preguntas actualizado: {response.json()['texto']}\")\n",
    "        except requests.RequestException as e:\n",
    "            print(f\"Error al conectar con el profesor: {e}\")"
   ]
  },
  {
   "cell_type": "markdown",
   "metadata": {},
   "source": [
    "*Ejercicio propuesto: se puede reducir considerablemente el código utilizando de forma correcta la herencia*"
   ]
  },
  {
   "cell_type": "markdown",
   "metadata": {},
   "source": [
    "# Webservices \n",
    "Ahora nos enfocaremos únicamente en el servidor. Un servidor, se puede entender como un *programa que realiza cierta acción* y que responde al cliente. Luego, para que la comunicación sea efectiva, ambas partes deben haber acordado como deben enviarse los mensajes pero entendiendo que el internet es una red enorme, se debe tener cierto **concenso** en como se debe hacer una solicitud a un servidor y como el servidor debe responder. \n",
    "\n",
    "Es aquí donde surge el concepto de protocolo de comunicación. El más importante es HTTP. Este permite la comuniación entre servidor y cliente de forma conocida para ambos miembros. El servidor que quiere ofrecer servicios expone ciertas rutas con ciertos métodos donde los clientes pueden entablar comunicación. Cada convinación de ruta y método cumple una misión distinta.\n",
    "\n",
    "Dependiendo de lo que se quiera hacer se elige un métodos diferente. HTTP ofrece los siguientes métodos:\n",
    "* `GET`: Se realiza cuando la solicitud busca obtener cierta información. Por ejemplo si quiero obtener la fotos que un amigo subio a instagram.\n",
    "\n",
    "* `POST`: Se realiza cuando la solicitud busca publicar nueva información. Por ejemplo publicar una nueva foto en mi instagram.\n",
    "\n",
    "* `PATCH`: Se realiza cuando la solicitud busca modificar **Solo parte de un recurso**. Por ejemplo cambiar la descripción de una fotografia en instagram. La foto se mantiene intacta pero solo una parte de la publicación se modifica.\n",
    "\n",
    "* `PUT`: Se realiza cuando la solicitud **Cambia todalmente un recurso** por ejemplo cambiar la foto de perfil. El recurso de foto perfil se ve modificado totalmente.\n",
    "\n",
    "* `DELETE`: Se realiza cuando la solicitud busca eliminar totalmente un recurso. Por ejemplo eliminar una publicación en instagram.\n",
    "\n",
    "Además HTTP provee algunos códigos de estado que permiten saber el resultado de una solicitud.\n",
    "* 2XX: La solicitud fue existosa.\n",
    "* 4XX: Se produjo un problema del lado del cliente.\n",
    "* 5XX: Se produjo un problema del lado del servidor.\n",
    "\n",
    "Cada código significa algo distinto. Por ejemplo:\n",
    "* 404: recurso no encontrado.\n",
    "* 200: Todo correcto.\n",
    "\n",
    "Una lista completa de los códigos HTTP (con fotos de gatitos) puede ser encontrado en [LINK](https://http.cat/).\n",
    "\n",
    "A continuación se presenta una ejemplo de una API simple que tiene 3 rutas a las cuales se pueden acceder por otras aplicaciones.\n"
   ]
  },
  {
   "cell_type": "code",
   "execution_count": 1,
   "metadata": {},
   "outputs": [],
   "source": [
    "from flask import Flask, request\n",
    "from random import choice\n",
    "\n",
    "app = Flask(__name__)\n",
    "\n",
    "preguntas = 0  # Variable global para contar las preguntas\n",
    "\n",
    "respuestas = [\"No puedes usar esa libreria\", \"No es un problema de los tests\",\n",
    "              \"Actualizamos los tests\", \"Puedes usar esa librería :D\"]\n",
    "\n",
    "\n",
    "@app.route(\"/\", methods=[\"GET\"])\n",
    "def hello_world():\n",
    "    return {\"saludo\": \"Bienvenido a la clase\"}\n",
    "\n",
    "\n",
    "@app.route(\"/respuesta\", methods=[\"GET\"])\n",
    "def respuesta():\n",
    "    escogida = choice(respuestas)\n",
    "    return {\"texto\": escogida, \"método\": \"GET\"}\n",
    "\n",
    "\n",
    "@app.route(\"/preguntas\", methods=[\"GET\", \"POST\"])\n",
    "def respuesta_ingeniosa():\n",
    "    global preguntas  # Declaramos que usaremos la variable global\n",
    "    \n",
    "    if request.method == \"POST\":\n",
    "        preguntas += 1\n",
    "        return {\"texto\": f\"Llevamos: {preguntas} preguntas respondidas\", \"método\": \"POST\"}\n",
    "    \n",
    "    return {\"texto\": f\"Llevamos: {preguntas} preguntas respondidas\", \"método\": \"GET\"}"
   ]
  },
  {
   "cell_type": "markdown",
   "metadata": {},
   "source": [
    "El Anterior codigo de servidor web fue subido a la nube a la plataforma de Render. Por lo cual es posible acceder a sus rutas remotamente, desde cualquier maquina. Puedes probarlo en las siguientes celdas:"
   ]
  },
  {
   "cell_type": "code",
   "execution_count": 1,
   "metadata": {},
   "outputs": [
    {
     "data": {
      "text/plain": [
       "{'saludo': 'Bienvenido a la clase'}"
      ]
     },
     "execution_count": 1,
     "metadata": {},
     "output_type": "execute_result"
    }
   ],
   "source": [
    "import requests\n",
    "\n",
    "respuesta = requests.get(\"https://profesor-flask.onrender.com/\")\n",
    "respuesta.json()"
   ]
  },
  {
   "cell_type": "code",
   "execution_count": 2,
   "metadata": {},
   "outputs": [
    {
     "data": {
      "text/plain": [
       "{'método': 'GET', 'texto': 'Puedes usar esa librería :D'}"
      ]
     },
     "execution_count": 2,
     "metadata": {},
     "output_type": "execute_result"
    }
   ],
   "source": [
    "respuesta = requests.get(\"https://profesor-flask.onrender.com/respuesta\")\n",
    "respuesta.json()"
   ]
  },
  {
   "cell_type": "code",
   "execution_count": 3,
   "metadata": {},
   "outputs": [
    {
     "data": {
      "text/plain": [
       "{'método': 'GET', 'texto': 'Llevamos: 0 preguntas respondidas'}"
      ]
     },
     "execution_count": 3,
     "metadata": {},
     "output_type": "execute_result"
    }
   ],
   "source": [
    "respuesta = requests.get(\"https://profesor-flask.onrender.com/preguntas\")\n",
    "respuesta.json()"
   ]
  },
  {
   "cell_type": "code",
   "execution_count": 4,
   "metadata": {},
   "outputs": [
    {
     "data": {
      "text/plain": [
       "{'método': 'POST', 'texto': 'Llevamos: 1 preguntas respondidas'}"
      ]
     },
     "execution_count": 4,
     "metadata": {},
     "output_type": "execute_result"
    }
   ],
   "source": [
    "respuesta = requests.post(\"https://profesor-flask.onrender.com/preguntas\")\n",
    "respuesta.json()"
   ]
  },
  {
   "cell_type": "markdown",
   "metadata": {},
   "source": [
    "# Probemos el codigo!"
   ]
  },
  {
   "cell_type": "markdown",
   "metadata": {},
   "source": [
    "Finalmente con todo correctamente configurado es hora de probar nuestro codigo, para ello debes ubicarte en la ruta de la carpeta `propuesto`, en esta debes abrir 4 terminales y ejutar los siguientes codigos en el orden establecido:\n",
    "\n",
    "1. `python3.11 profesor.py`\n",
    "\n",
    "2. `python3.11 tareo.py`\n",
    "\n",
    "3. `python3.11 docencio.py`\n",
    "\n",
    "4. `python3.11 estudiante.py`"
   ]
  }
 ],
 "metadata": {
  "kernelspec": {
   "display_name": "Python 3",
   "language": "python",
   "name": "python3"
  },
  "language_info": {
   "codemirror_mode": {
    "name": "ipython",
    "version": 3
   },
   "file_extension": ".py",
   "mimetype": "text/x-python",
   "name": "python",
   "nbconvert_exporter": "python",
   "pygments_lexer": "ipython3",
   "version": "3.11.7"
  }
 },
 "nbformat": 4,
 "nbformat_minor": 2
}

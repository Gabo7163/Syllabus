{
 "cells": [
  {
   "cell_type": "markdown",
   "metadata": {},
   "source": [
    "<p>\n",
    "<font size='5' face='Georgia, Arial'>IIC2233 Apunte Programación Avanzada</font><br>\n",
    "<font size='1'>&copy; 2024 Daniela Concha. Todos los derechos reservados.</font>\n",
    "</p>"
   ]
  },
  {
   "cell_type": "markdown",
   "metadata": {},
   "source": [
    "# Tabla de contenidos\n",
    "\n",
    "1. [Ejemplo consumo de `*args` y `**kwargs` en MRO](#Ejemplo_consumo_de_*args_y_**kwargs_en_MRO)\n",
    "    1. [No se utiliza `super()`](#No_se_utiliza_super())\n",
    "    2. [Sí se utiliza `super()`](#Sí_se_utiliza_super())\n",
    "2. [Ejemplo atributos por defecto](#Ejemplo_atributos_por_defecto)\n",
    "    1. [Entregar instancia vs `None`](#Entregar_instancia_vs_None)\n",
    "3. [Ejemplo desempaquetamiento](#Ejemplo_desempaquetamiento)\n",
    "    1. [Desempaquetar con `*` y `**`](#Desempaquetar_con_*_y_**)"
   ]
  },
  {
   "cell_type": "markdown",
   "metadata": {},
   "source": [
    "## Ejemplo consumo de `*args` y `**kwargs` en MRO"
   ]
  },
  {
   "cell_type": "code",
   "execution_count": 1,
   "metadata": {},
   "outputs": [],
   "source": [
    "def print_clase_atributos(clase: str = '', atributos: tuple = ()) -> None:\n",
    "    '''\n",
    "    Función que recibe la información de una clase (Nombre, atributos, args, kwargs)\n",
    "    y lo imprime en un formato en específico\n",
    "    '''\n",
    "    platilla_texto = '{:<15} | {:<15} | {:<15} | {}'\n",
    "    if not (clase and atributos):\n",
    "        print(platilla_texto.format('Nombre', 'Atributo Input', '*args', '**kwargs'))\n",
    "        print('-' * 100)\n",
    "    else:\n",
    "        print(platilla_texto.format(clase, atributos[0], repr(atributos[1]), repr(atributos[2])))"
   ]
  },
  {
   "cell_type": "markdown",
   "metadata": {},
   "source": [
    "### No se utiliza `super()`"
   ]
  },
  {
   "cell_type": "code",
   "execution_count": 2,
   "metadata": {},
   "outputs": [
    {
     "name": "stdout",
     "output_type": "stream",
     "text": [
      "Nombre          | Atributo Input  | *args           | **kwargs\n",
      "----------------------------------------------------------------------------------------------------\n",
      "ClaseHija       | 1, 2, 3         | '-'             | '-'\n",
      "ClasePadre      | 1               | (3,)            | {}\n",
      "ClaseAbuelo     | 3               | ()              | {}\n",
      "ClaseMadre      | 2               | (3,)            | {}\n",
      "ClaseAbuelo     | 3               | ()              | {}\n"
     ]
    }
   ],
   "source": [
    "class ClaseAbuelo:\n",
    "    def __init__(self, atributo3, *args, **kwargs) -> None:\n",
    "        print_clase_atributos('ClaseAbuelo', (atributo3, args, kwargs))\n",
    "        self.atributo3 = atributo3\n",
    "\n",
    "\n",
    "class ClasePadre(ClaseAbuelo):\n",
    "    def __init__(self, atributo1, *args, **kwargs) -> None:\n",
    "        print_clase_atributos('ClasePadre', (atributo1, args, kwargs))\n",
    "        self.atributo1 = atributo1\n",
    "        ClaseAbuelo.__init__(self, *args, **kwargs)\n",
    "\n",
    "\n",
    "class ClaseMadre(ClaseAbuelo):\n",
    "    def __init__(self, atributo2, *args, **kwargs) -> None:\n",
    "        print_clase_atributos('ClaseMadre', (atributo2, args, kwargs))\n",
    "        self.atributo2 = atributo2\n",
    "        ClaseAbuelo.__init__(self, *args, **kwargs)\n",
    "\n",
    "\n",
    "class ClaseHija(ClasePadre, ClaseMadre):\n",
    "    def __init__(self, atributo1, atributo2, atributo3) -> None:\n",
    "        print_clase_atributos('ClaseHija', (f'{atributo1}, {atributo2}, {atributo3}', '-', '-'))\n",
    "        ClasePadre.__init__(self, atributo1, atributo3)\n",
    "        ClaseMadre.__init__(self, atributo2, atributo3)\n",
    "\n",
    "\n",
    "if __name__ == '__main__':\n",
    "    # Cuando no se hace uso de 'super()' para manejar la multi-herencia, \n",
    "    # el recorrido del MRO pasará 2 veces por la ClaseAbuelo.\n",
    "\n",
    "    # Para verlo con mayor claridad, revisar el flujo que se muestra en\n",
    "    # la presentación de la clase 4.\n",
    "\n",
    "    print_clase_atributos()\n",
    "    ClaseHija(1, 2, 3)"
   ]
  },
  {
   "cell_type": "markdown",
   "metadata": {},
   "source": [
    "### Sí se utiliza `super()`"
   ]
  },
  {
   "cell_type": "code",
   "execution_count": 3,
   "metadata": {},
   "outputs": [
    {
     "name": "stdout",
     "output_type": "stream",
     "text": [
      "Nombre          | Atributo Input  | *args           | **kwargs\n",
      "----------------------------------------------------------------------------------------------------\n",
      "ClaseHija       |                 | (1, 2, 3)       | {}\n",
      "ClasePadre      | 1               | (2, 3)          | {}\n",
      "ClaseMadre      | 2               | (3,)            | {}\n",
      "ClaseAbuelo     | 3               | ()              | {}\n",
      "\n",
      "Nombre          | Atributo Input  | *args           | **kwargs\n",
      "----------------------------------------------------------------------------------------------------\n",
      "ClaseHija       |                 | ()              | {'atributo2': 2, 'atributo1': 1, 'atributo3': 3}\n",
      "ClasePadre      | 1               | ()              | {'atributo2': 2, 'atributo3': 3}\n",
      "ClaseMadre      | 2               | ()              | {'atributo3': 3}\n",
      "ClaseAbuelo     | 3               | ()              | {}\n"
     ]
    }
   ],
   "source": [
    "class ClaseAbuelo:\n",
    "    def __init__(self, atributo3, *args, **kwargs) -> None:\n",
    "        print_clase_atributos('ClaseAbuelo', (atributo3, args, kwargs))\n",
    "        self.atributo3 = atributo3\n",
    "\n",
    "\n",
    "class ClasePadre(ClaseAbuelo):\n",
    "    def __init__(self, atributo1, *args, **kwargs) -> None:\n",
    "        print_clase_atributos('ClasePadre', (atributo1, args, kwargs))\n",
    "        self.atributo1 = atributo1\n",
    "        super().__init__(*args, **kwargs)\n",
    "\n",
    "\n",
    "class ClaseMadre(ClaseAbuelo):\n",
    "    def __init__(self, atributo2, *args, **kwargs) -> None:\n",
    "        print_clase_atributos('ClaseMadre', (atributo2, args, kwargs))\n",
    "        self.atributo2 = atributo2\n",
    "        super().__init__(*args, **kwargs)\n",
    "\n",
    "\n",
    "class ClaseHija(ClasePadre, ClaseMadre):\n",
    "    def __init__(self, *args, **kwargs) -> None:\n",
    "        print_clase_atributos('ClaseHija', ('', args, kwargs))\n",
    "        super().__init__(*args, **kwargs)\n",
    "\n",
    "\n",
    "if __name__ == '__main__':\n",
    "    # Cuando sí se hace uso de 'super()' para manejar la multi-herencia, \n",
    "    # el recorrido del MRO pasará primero por las ClasePadre y ClaseMadre,\n",
    "    # después por la ClaseAbuelo.\n",
    "\n",
    "    # Para verlo con mayor claridad, revisar el flujo que se muestra en\n",
    "    # la presentación de la clase 4.\n",
    "\n",
    "    print_clase_atributos()\n",
    "    ClaseHija(1, 2, 3)\n",
    "    print()\n",
    "\n",
    "    print_clase_atributos()\n",
    "    ClaseHija(atributo2=2, atributo1=1, atributo3=3)"
   ]
  },
  {
   "cell_type": "markdown",
   "metadata": {},
   "source": [
    "## Ejemplo atributos por defecto\n",
    "### Entregar instancia vs `None`"
   ]
  },
  {
   "cell_type": "code",
   "execution_count": 4,
   "metadata": {},
   "outputs": [
    {
     "name": "stdout",
     "output_type": "stream",
     "text": [
      "Ejecución usando la función mala\n",
      "['a', 'b', 2]\n",
      "[0]\n",
      "[0, 1]\n",
      "[0, 1, 2]\n",
      "\n",
      "Ejecución usando la función buena\n",
      "['a', 'b', 2]\n",
      "[0]\n",
      "[0]\n",
      "[0]\n"
     ]
    }
   ],
   "source": [
    "def función_mala(lista: list = []) -> None:\n",
    "    '''\n",
    "    Función que recibe una lista.\n",
    "    Le agrega a dicha lista el valor de su largo y la imprime.\n",
    "\n",
    "    Si no recibe una lista, usará la misma lista por defecto\n",
    "    en los llamados de la función.\n",
    "    '''\n",
    "    lista.append(len(lista))\n",
    "    print(lista)\n",
    "\n",
    "\n",
    "def función_buena(lista: list | None = None) -> None:\n",
    "    '''\n",
    "    Función que recibe una lista.\n",
    "    Le agrega a dicha lista el valor de su largo y la imprime.\n",
    "    \n",
    "    Si no recibe una lista, creará una instancia distinta de\n",
    "    lista en los llamados de la función.\n",
    "    '''\n",
    "    if lista is None:\n",
    "        lista = []\n",
    "\n",
    "    lista.append(len(lista))\n",
    "    print(lista)\n",
    "\n",
    "\n",
    "if __name__ == '__main__':\n",
    "    print('Ejecución usando la función mala')\n",
    "    función_mala(['a', 'b'])\n",
    "    función_mala()\n",
    "    función_mala()\n",
    "    función_mala()\n",
    "\n",
    "    print('\\nEjecución usando la función buena')\n",
    "    función_buena(['a', 'b'])\n",
    "    función_buena()\n",
    "    función_buena()\n",
    "    función_buena()"
   ]
  },
  {
   "cell_type": "markdown",
   "metadata": {},
   "source": [
    "## Ejemplo desempaquetamiento\n",
    "### Desempaquetar con `*` y `**`"
   ]
  },
  {
   "cell_type": "code",
   "execution_count": 5,
   "metadata": {},
   "outputs": [
    {
     "name": "stdout",
     "output_type": "stream",
     "text": [
      "Podemos desempaquetar:\n",
      "- El contenido de listas:         1 2 3 4 5 6 7\n",
      "- Las llaves de un diccionario:   a b c\n",
      "- Los valores de un diccionario:  1 2 3\n",
      "- Los pares de un diccionario:    ('a', 1) ('b', 2) ('c', 3)\n",
      "- En textos que usan format:      1 3 1 2\n"
     ]
    }
   ],
   "source": [
    "# Al momento de trabajar con estructuras que se pueden desempaquetar,\n",
    "# como listas, tuplas y diccionarios\n",
    "lista = [1, 2, 3, 4, 5, 6, 7]\n",
    "diccionario = {'a': 1, 'b': 2, 'c': 3}\n",
    "\n",
    "# Podemos utilizar el operador * para desempaquetar la información de estas estructuras:\n",
    "# (Los * y ** no solo se utilizan en la definición de clases y funciones)\n",
    "print('Podemos desempaquetar:')\n",
    "print('- El contenido de listas:        ', *lista)\n",
    "print('- Las llaves de un diccionario:  ', *diccionario)\n",
    "print('- Los valores de un diccionario: ', *diccionario.values())\n",
    "print('- Los pares de un diccionario:   ', *diccionario.items())\n",
    "\n",
    "# Podemos utilizar el operador ** en contextos donde se deba asociar un valor a una llave.\n",
    "# Por ejemplo, cuando usamos strings y format:\n",
    "print('- En textos que usan format:      {a} {c} {a} {b}'.format(**diccionario))"
   ]
  }
 ],
 "metadata": {
  "kernelspec": {
   "display_name": "Python 3",
   "language": "python",
   "name": "python3"
  },
  "language_info": {
   "codemirror_mode": {
    "name": "ipython",
    "version": 3
   },
   "file_extension": ".py",
   "mimetype": "text/x-python",
   "name": "python",
   "nbconvert_exporter": "python",
   "pygments_lexer": "ipython3",
   "version": "3.11.7"
  }
 },
 "nbformat": 4,
 "nbformat_minor": 2
}
